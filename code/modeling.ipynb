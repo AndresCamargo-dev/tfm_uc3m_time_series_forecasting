{
 "cells": [
  {
   "cell_type": "code",
   "execution_count": 1,
   "metadata": {},
   "outputs": [
    {
     "name": "stderr",
     "output_type": "stream",
     "text": [
      "c:\\Users\\andre\\AppData\\Local\\Programs\\Python\\Python310\\lib\\site-packages\\tqdm\\auto.py:21: TqdmWarning: IProgress not found. Please update jupyter and ipywidgets. See https://ipywidgets.readthedocs.io/en/stable/user_install.html\n",
      "  from .autonotebook import tqdm as notebook_tqdm\n"
     ]
    }
   ],
   "source": [
    "from datetime import timedelta\n",
    "import itertools\n",
    "import joblib\n",
    "import matplotlib.pyplot as plt\n",
    "from multiprocessing import cpu_count\n",
    "import numpy as np\n",
    "import pandas as pd\n",
    "from prophet import Prophet\n",
    "from prophet.diagnostics import cross_validation, performance_metrics\n",
    "from pmdarima.arima import auto_arima\n",
    "from sklearn.model_selection import TimeSeriesSplit\n",
    "from sklearn.metrics import mean_absolute_percentage_error\n",
    "from statsforecast import StatsForecast\n",
    "from statsforecast.models import (AutoARIMA, \n",
    "                                  DynamicOptimizedTheta as DOT,\n",
    "                                  AutoETS,\n",
    "                                  AutoTheta,\n",
    "                                  WindowAverage,                              \n",
    "                                  CrostonClassic as Croston,\n",
    "                                  ADIDA,\n",
    "                                  IMAPA, \n",
    "                                  )\n",
    "\n",
    "import warnings\n",
    "%matplotlib inline\n",
    "warnings.filterwarnings(\"ignore\")"
   ]
  },
  {
   "cell_type": "markdown",
   "metadata": {},
   "source": [
    "The notebook is segmented into distinct sections, which we explain below. Our primary focus lies on functions, followed by execution chunks."
   ]
  },
  {
   "cell_type": "markdown",
   "metadata": {},
   "source": [
    "### Load Data"
   ]
  },
  {
   "cell_type": "code",
   "execution_count": null,
   "metadata": {},
   "outputs": [],
   "source": [
    "id_list = pd.read_csv('../out/id_selection/id_selected.csv')\n",
    "id_list.set_index('unique_id', inplace=True)\n",
    "id_list = id_list.index.unique()\n",
    "id_list"
   ]
  },
  {
   "cell_type": "code",
   "execution_count": null,
   "metadata": {},
   "outputs": [],
   "source": [
    "weekly_selid_clean = pd.read_csv('../out/sales_files/weekly_sales_selected_loop_without_test_outliers_2019-2022.csv')\n",
    "weekly_selid_clean = weekly_selid_clean.set_index('unique_id')\n",
    "weekly_selid_clean = weekly_selid_clean[['ds', 'y']]\n",
    "weekly_selid_clean['ds'] = pd.to_datetime(weekly_selid_clean['ds'])\n",
    "weekly_selid_clean"
   ]
  },
  {
   "cell_type": "markdown",
   "metadata": {},
   "source": [
    "Log Transformation\n"
   ]
  },
  {
   "cell_type": "code",
   "execution_count": null,
   "metadata": {},
   "outputs": [],
   "source": [
    "log_weekly_selid = weekly_selid_clean.copy()\n",
    "log_weekly_selid['y'] = np.log1p(log_weekly_selid.y)\n",
    "log_weekly_selid"
   ]
  },
  {
   "cell_type": "markdown",
   "metadata": {},
   "source": [
    "### Evaluation functions\n",
    "\n",
    "* Define error metrics.\n",
    "* Function for applicating error metrics to cross-validation dataframe.\n",
    "* Set of functions to obtain summary of error metrics by levels and models.\n",
    "\n"
   ]
  },
  {
   "cell_type": "code",
   "execution_count": 6,
   "metadata": {},
   "outputs": [],
   "source": [
    "def mae(y_true, y_pred):\n",
    "    return np.mean(np.abs(y_pred-y_true))\n",
    "\n",
    "def wape_mtly(y_true, y_pred): \n",
    "    wape2 = abs((y_true.sum() - y_pred.sum())) / y_true.sum() * 100\n",
    "    if np.isinf(wape2):\n",
    "        wape2 = np.nan\n",
    "    return wape2\n"
   ]
  },
  {
   "cell_type": "code",
   "execution_count": 8,
   "metadata": {},
   "outputs": [],
   "source": [
    "from datasetsforecast.losses import rmse\n",
    "\n",
    "def evaluate(cv_df):\n",
    "    cv_df.reset_index(inplace=True)\n",
    "    cv_df.set_index('unique_id', inplace = True)\n",
    "\n",
    "    columns = cv_df.drop(columns=['ds', 'cutoff']).columns.tolist()\n",
    "    exp_cv_df = cv_df.copy()  \n",
    "\n",
    "    for column in columns:\n",
    "        exp_cv_df[column] = np.expm1(cv_df[column])\n",
    "\n",
    "    metrics = pd.DataFrame(columns=['id','model','rmse', 'mae', 'wape_m'])\n",
    "    models = cv_df.drop(columns=['ds', 'cutoff', 'y']).columns.tolist()\n",
    "\n",
    "    for index in exp_cv_df.index.unique():\n",
    "        cv_one_id = exp_cv_df[exp_cv_df.index == index]\n",
    "\n",
    "        for model in models:\n",
    "            cv_one_id_model = cv_one_id[['ds','y',model]]\n",
    "            rmse_one_id_one_model = cv_one_id_model.groupby(cv_one_id_model['ds'].dt.month).apply(lambda x: rmse(x['y'], x[model]))\n",
    "            mean_rmse = rmse_one_id_one_model.mean()\n",
    "            mae_one_id_one_model = cv_one_id_model.groupby(cv_one_id_model['ds'].dt.month).apply(lambda x: mae(x['y'], x[model]))\n",
    "            mean_mae = mae_one_id_one_model.mean()\n",
    "            wape2_one_id_one_model = cv_one_id_model.groupby(cv_one_id_model['ds'].dt.month).apply(lambda x: wape_mtly(x['y'], x[model]))\n",
    "            mean_wape2 = np.nanmean(wape2_one_id_one_model)\n",
    "            row = {'id': index, \n",
    "                'model': model, \n",
    "                'rmse': round(mean_rmse),  \n",
    "                'mae': round(mean_mae,1),\n",
    "                'wape_m': round(mean_wape2,1)\n",
    "                }\n",
    "            \n",
    "            metrics = pd.concat([metrics, pd.DataFrame(row, index=[0])], ignore_index=True)\n",
    "    \n",
    "    return metrics"
   ]
  },
  {
   "cell_type": "markdown",
   "metadata": {},
   "source": [
    "#### Metrics summary:\n",
    "\n",
    "In this section we defined the following procedures:\n",
    "* Select best model within each product, using MAE.\n",
    "* Create a table with descriptive metrics of each product\n",
    "* Classify WAPE of each product in levels and merge with descriptive metrics table.\n",
    "* Create final summary table: Group products in WAPE levels and compute grouped metrics\n",
    "* Count number of products per model\n",
    "* Compute global WAPE\n"
   ]
  },
  {
   "cell_type": "code",
   "execution_count": 9,
   "metadata": {},
   "outputs": [],
   "source": [
    "def select_best_models(df, metric):\n",
    "    min_metric_models = df.groupby('id')['mae'].idxmin()\n",
    "    best_models = df.loc[min_metric_models, ['id', 'model', 'mae', metric]]\n",
    "    column_title = f'{metric}_level'\n",
    "    best_models[column_title] = np.where(best_models[metric] == 0, '0%',\n",
    "                           np.where((best_models[metric] > 0) & (best_models[metric] <= 10), '1% - 10%',\n",
    "                           np.where((best_models[metric] > 10) & (best_models[metric] <= 20), '11% - 20%',\n",
    "                           np.where((best_models[metric] > 20) & (best_models[metric] <= 30), '21% - 30%',\n",
    "                           np.where((best_models[metric] > 30) & (best_models[metric] <= 40), '31% - 40%',\n",
    "                           np.where((best_models[metric] > 40) & (best_models[metric] <= 50), '41% - 50%',\n",
    "                           np.where((best_models[metric] > 50) & (best_models[metric] <= 60), '51% - 60%',\n",
    "                           np.where((best_models[metric] > 60) & (best_models[metric] <= 70), '61% - 70%',\n",
    "                           np.where((best_models[metric] > 70) & (best_models[metric] <= 80), '71% - 80%',\n",
    "                           np.where((best_models[metric] > 80) & (best_models[metric] <= 90), '81% - 90%',\n",
    "                           np.where((best_models[metric] > 90) & (best_models[metric] <= 100), '91% - 100%',\n",
    "                           np.where((best_models[metric] > 100), '>100%',                      \n",
    "                           'inf'))))))))))))\n",
    "    best_models.rename(columns={'id': 'unique_id'}, inplace=True)\n",
    "    best_models.set_index('unique_id', inplace=True)\n",
    "    return best_models"
   ]
  },
  {
   "cell_type": "code",
   "execution_count": 10,
   "metadata": {},
   "outputs": [],
   "source": [
    "def create_descriptive_metrics_table():\n",
    "  summary_weekly_sales = pd.DataFrame()\n",
    "  summary_weekly_sales['mean_last_8_weeks'] = weekly_selid_clean.groupby('unique_id')['y'].rolling(window=8, min_periods=1).mean().groupby('unique_id').last()\n",
    "  summary_weekly_sales['historic_mean'] = weekly_selid_clean.groupby('unique_id')['y'].mean().round(decimals=2)\n",
    "  summary_weekly_sales['weeks_since_first_sale'] = weekly_selid_clean.groupby('unique_id')['ds'].count()\n",
    "  summary_weekly_sales['sales_2022'] = weekly_selid_clean[(weekly_selid_clean['ds'] >= '2022-01-01')].groupby('unique_id').sum()\n",
    "  return summary_weekly_sales"
   ]
  },
  {
   "cell_type": "code",
   "execution_count": 11,
   "metadata": {},
   "outputs": [],
   "source": [
    "def compute_error_levels(summary, best_models, metric_level):\n",
    "  error_levels = summary.merge(best_models, left_index=True, right_index=True)\n",
    "  error_levels.reset_index(inplace=True)\n",
    "  error_levels.set_index(metric_level, inplace=True)\n",
    "  return error_levels"
   ]
  },
  {
   "cell_type": "code",
   "execution_count": 12,
   "metadata": {},
   "outputs": [],
   "source": [
    "def create_error_level_summary(weekly_error_levels, metric):\n",
    "        metric = f'{metric}_level'\n",
    "        total_sales_2022 = weekly_error_levels['sales_2022'].sum()\n",
    "        weekly_results = pd.DataFrame({metric: ['0%','1% - 10%','11% - 20%','21% - 30%','31% - 40%', '41% - 50%', '51% - 60%', '61% - 70%','71% - 80%',\n",
    "                '81% - 90%', '91% - 100%', '>100%']})\n",
    "        weekly_results.set_index(metric, inplace=True)\n",
    "        weekly_results['unique_id'] = weekly_error_levels.groupby(metric)['unique_id'].count()\n",
    "        weekly_results['mean_last_8_weeks'] = weekly_error_levels.groupby(metric)['mean_last_8_weeks'].mean().round(decimals=2)\n",
    "        weekly_results['historic_mean'] = weekly_error_levels.groupby(metric)['historic_mean'].mean().round(decimals=2)\n",
    "        weekly_results['weeks_since_first_sale'] = weekly_error_levels.groupby(metric)['weeks_since_first_sale'].mean().round(decimals=2)\n",
    "        weekly_results['sales_2022'] = weekly_error_levels.groupby(metric)['sales_2022'].sum().round(decimals=2)\n",
    "        weekly_results['% sales_2022'] = round((weekly_error_levels.groupby(metric)['sales_2022'].sum().round(decimals=2)/total_sales_2022)*100, 2)\n",
    "        #weekly_results.to_csv(f'../out/summary_tables/weekly_results_{metric}.csv')\n",
    "        return weekly_results\n"
   ]
  },
  {
   "cell_type": "code",
   "execution_count": 13,
   "metadata": {},
   "outputs": [],
   "source": [
    "def summarize_errors(metrics_wkl, metric):\n",
    "  best_weekly_models = select_best_models(metrics_wkl, metric)\n",
    "  best_weekly_models.sort_values(by=metric)\n",
    "  descriptive_metrics = create_descriptive_metrics_table()\n",
    "  error_levels = compute_error_levels(descriptive_metrics, best_weekly_models, f'{metric}_level')\n",
    "  results_summary = create_error_level_summary(error_levels, metric)\n",
    "  models_table = error_levels.groupby('model')['unique_id'].count().sort_values(ascending=False)\n",
    "  global_error = error_levels[metric].mean()\n",
    "\n",
    "  return results_summary, models_table, global_error\n"
   ]
  },
  {
   "cell_type": "markdown",
   "metadata": {},
   "source": [
    "### Exploratory Modeling\n",
    "\n",
    "In this section we defined the following functions:\n",
    "* Data transformations\n",
    "* Apply 4 models (Mean, Random Walk, Window Average, AutoArima) using cross-validation.\n",
    "* Prophet tuning with grid search for hyperparameters optimization \n",
    "* Apply prophet with cross-validation and best parameters\n",
    "\n"
   ]
  },
  {
   "cell_type": "code",
   "execution_count": 14,
   "metadata": {},
   "outputs": [],
   "source": [
    "def m1_initial_transformations(df):\n",
    "    df = df.reset_index()\n",
    "    df = df.set_index('ds')\n",
    "    df.index = pd.to_datetime(df.index)\n",
    "    df = df.sort_index()\n",
    "    return df"
   ]
  },
  {
   "cell_type": "code",
   "execution_count": 15,
   "metadata": {},
   "outputs": [],
   "source": [
    "def m1_models(df):\n",
    "        split_cv = TimeSeriesSplit(n_splits=4, test_size=4*2*1, gap=0) \n",
    "        cross_validation = pd.DataFrame()\n",
    "        \n",
    "        for train_idx, val_idx in split_cv.split(df):\n",
    "                \n",
    "                train = df.iloc[train_idx]\n",
    "                test = df.iloc[val_idx]\n",
    "                test['cutoff'] = test.index.min() - timedelta(weeks=1)\n",
    "                \n",
    "                # Mean\n",
    "                mean_model = train['y'].mean()\n",
    "                test['mean'] = mean_model\n",
    "\n",
    "                # Random Walk\n",
    "                test['random_walk'] = train.y.tail(n=1).values[0]\n",
    "                \n",
    "                # Window Average\n",
    "                train['MA4'] = train['y'].rolling(window = 4).mean()\n",
    "                test['window_average'] = train['MA4'].tail(n=1).values[0]\n",
    "\n",
    "                # ARIMA\n",
    "                target = train['y']\n",
    "                model = auto_arima(target)\n",
    "                test['auto_arima'] = model.predict(n_periods = len(test))\n",
    "\n",
    "                cross_validation = pd.concat([cross_validation, test])\n",
    "\n",
    "        return cross_validation"
   ]
  },
  {
   "cell_type": "code",
   "execution_count": 14,
   "metadata": {},
   "outputs": [],
   "source": [
    "def m1_tuning_hyperparameters_prophet(df, days):\n",
    "    new_df = pd.DataFrame({'ds': df['ds'],'y':df['y']}).reset_index()\n",
    "        \n",
    "    param_grid = {  \n",
    "        'changepoint_prior_scale': [0.001, 0.01, 0.1, 0.5],\n",
    "        'seasonality_prior_scale': [0.01, 0.1, 1.0, 10.0],\n",
    "        'seasonality_mode': ['additive', 'multiplicative']\n",
    "    }\n",
    "\n",
    "    all_params = [dict(zip(param_grid.keys(), v)) for v in itertools.product(*param_grid.values())]\n",
    "    rmses = []  \n",
    "\n",
    "    for params in all_params:\n",
    "        m = Prophet(**params, growth='flat') \n",
    "        m.add_country_holidays(country_name='ES')\n",
    "        m.fit(new_df) \n",
    "        df_cv = cross_validation(m, initial=f'{days} days', period='56 days', horizon = '56 days', parallel=\"processes\")\n",
    "        df_p = performance_metrics(df_cv, rolling_window=1)\n",
    "        rmses.append(df_p['rmse'].values[0])\n",
    "        \n",
    "    tuning_results = pd.DataFrame(all_params)\n",
    "    tuning_results['rmse'] = rmses\n",
    "\n",
    "    best_params = all_params[np.argmin(rmses)]\n",
    "    return best_params"
   ]
  },
  {
   "cell_type": "code",
   "execution_count": 16,
   "metadata": {},
   "outputs": [],
   "source": [
    "def m1_apply_prophet(p_df, best_params, days, m1_cv):\n",
    "\n",
    "    auto_model = Prophet(changepoint_prior_scale=best_params['changepoint_prior_scale'], \n",
    "                        seasonality_prior_scale=best_params['seasonality_prior_scale'], \n",
    "                        seasonality_mode=best_params['seasonality_mode'], growth='flat')\n",
    "\n",
    "    auto_model.add_country_holidays(country_name='ES')\n",
    "    \n",
    "    auto_model.fit(p_df)\n",
    "    \n",
    "    auto_model_cv = cross_validation(auto_model, initial=f'{days} days', period='56 days', horizon = '56 days', parallel=\"processes\")\n",
    "    auto_model_cv.set_index('ds', inplace=True)\n",
    "    m1_cv['prophet'] = auto_model_cv['yhat']\n",
    "    \n",
    "    return m1_cv, auto_model"
   ]
  },
  {
   "cell_type": "markdown",
   "metadata": {},
   "source": [
    "In order to apply these 5 models the portfolio, we created a loop that iterates each function across each product.\n",
    "Finally, we:\n",
    "* Evaluate 5 models\n",
    "* Summarize metrics"
   ]
  },
  {
   "cell_type": "code",
   "execution_count": null,
   "metadata": {},
   "outputs": [],
   "source": [
    "m1_global_crossvalidation = pd.DataFrame()\n",
    "\n",
    "for id in log_weekly_selid.index.unique():\n",
    "\n",
    "  df = log_weekly_selid.loc[id]\n",
    "  one_id_df = m1_initial_transformations(df)\n",
    "  crossvalidation = m1_models(one_id_df)\n",
    "  days = (crossvalidation.index.min() - df['ds'].min()).days - 30\n",
    "  best_params = m1_tuning_hyperparameters_prophet(df, days)\n",
    "  crossvalidation, prophet_model = m1_apply_prophet(df, best_params, days, crossvalidation)\n",
    "  global_crossvalidation = pd.concat([global_crossvalidation, crossvalidation])\n",
    "\n",
    "m1_global_crossvalidation"
   ]
  },
  {
   "cell_type": "markdown",
   "metadata": {},
   "source": [
    "We load a pre-computed CSV files, as the execution of the loop takes several hours or even days to complete."
   ]
  },
  {
   "cell_type": "code",
   "execution_count": 17,
   "metadata": {},
   "outputs": [],
   "source": [
    "#m1_global_crossvalidation.to_csv('../out/cv/crossvalidation_m1_models.csv')\n",
    "m1_global_crossvalidation = pd.read_csv('../out/cv/crossvalidation_m1_models.csv')\n",
    "m1_global_crossvalidation.set_index('ds', inplace=True)\n",
    "m1_global_crossvalidation.index = pd.to_datetime(m1_global_crossvalidation.index)"
   ]
  },
  {
   "cell_type": "code",
   "execution_count": null,
   "metadata": {},
   "outputs": [],
   "source": [
    "#m1_global_metrics = evaluate(m1_global_crossvalidation)\n",
    "#m1_global_metrics.to_csv('../out/metrics/m1_global_metrics.csv')\n",
    "m1_global_metrics = pd.read_csv('../out/metrics/m1_global_metrics.csv')\n",
    "m1_global_metrics.head(50)"
   ]
  },
  {
   "cell_type": "code",
   "execution_count": null,
   "metadata": {},
   "outputs": [],
   "source": [
    "m1_results_summary, m1_models_table, m1_global_wape_m = summarize_errors(m1_global_metrics, 'wape_m')\n",
    "m1_results_summary"
   ]
  },
  {
   "cell_type": "code",
   "execution_count": 20,
   "metadata": {},
   "outputs": [
    {
     "data": {
      "text/plain": [
       "model\n",
       "mean              168\n",
       "auto_arima        158\n",
       "window_average    149\n",
       "prophet            79\n",
       "random_walk        50\n",
       "Name: unique_id, dtype: int64"
      ]
     },
     "execution_count": 20,
     "metadata": {},
     "output_type": "execute_result"
    }
   ],
   "source": [
    "m1_models_table"
   ]
  },
  {
   "cell_type": "code",
   "execution_count": 21,
   "metadata": {},
   "outputs": [
    {
     "data": {
      "text/plain": [
       "45.74552980132451"
      ]
     },
     "execution_count": 21,
     "metadata": {},
     "output_type": "execute_result"
    }
   ],
   "source": [
    "m1_global_wape_m"
   ]
  },
  {
   "cell_type": "markdown",
   "metadata": {},
   "source": [
    "### Final Modeling\n",
    "\n",
    "In this section we include:\n",
    "* Models training\n",
    "* Models evaluation using cross-validation\n",
    "* Forecasting\n",
    "\n"
   ]
  },
  {
   "cell_type": "code",
   "execution_count": null,
   "metadata": {},
   "outputs": [],
   "source": [
    "log_sf = StatsForecast(\n",
    "    models = [AutoARIMA(season_length = 52), AutoETS(season_length=52), DOT(season_length = 52), AutoTheta(season_length = 52), ADIDA(), Croston(), IMAPA(), WindowAverage(window_size=4)],\n",
    "    freq = 'W',\n",
    "    n_jobs = cpu_count()-1,\n",
    "    fallback_model= WindowAverage(window_size=4)\n",
    ")\n",
    "\n",
    "log_sf.fit(log_weekly_selid)"
   ]
  },
  {
   "cell_type": "markdown",
   "metadata": {},
   "source": [
    "A pre-trained model for this project can be loaded, as the training process takes several hours or even days to complete."
   ]
  },
  {
   "cell_type": "code",
   "execution_count": 22,
   "metadata": {},
   "outputs": [],
   "source": [
    "#joblib.dump(log_sf, '../models/weekly_selected_log_model.pkl')\n",
    "log_sf = joblib.load('../models/weekly_selected_log_model.pkl')"
   ]
  },
  {
   "cell_type": "markdown",
   "metadata": {},
   "source": [
    "Each series was subjected to 4-blocks cross-validation with an 8-week extension for the testing period."
   ]
  },
  {
   "cell_type": "code",
   "execution_count": null,
   "metadata": {},
   "outputs": [],
   "source": [
    "log_crossvalidation_df = log_sf.cross_validation(\n",
    "    df = log_weekly_selid,\n",
    "    h = 8, \n",
    "    step_size=8, \n",
    "    n_windows=4\n",
    ")\n",
    "\n",
    "log_crossvalidation_df\n",
    "#log_crossvalidation_df.to_csv('../out/cv/crossvalidation_weekly_8_models_2019-2022_log.csv')"
   ]
  },
  {
   "cell_type": "code",
   "execution_count": 23,
   "metadata": {},
   "outputs": [
    {
     "data": {
      "text/html": [
       "<div>\n",
       "<style scoped>\n",
       "    .dataframe tbody tr th:only-of-type {\n",
       "        vertical-align: middle;\n",
       "    }\n",
       "\n",
       "    .dataframe tbody tr th {\n",
       "        vertical-align: top;\n",
       "    }\n",
       "\n",
       "    .dataframe thead th {\n",
       "        text-align: right;\n",
       "    }\n",
       "</style>\n",
       "<table border=\"1\" class=\"dataframe\">\n",
       "  <thead>\n",
       "    <tr style=\"text-align: right;\">\n",
       "      <th></th>\n",
       "      <th>ds</th>\n",
       "      <th>cutoff</th>\n",
       "      <th>y</th>\n",
       "      <th>AutoARIMA</th>\n",
       "      <th>AutoETS</th>\n",
       "      <th>DynamicOptimizedTheta</th>\n",
       "      <th>AutoTheta</th>\n",
       "      <th>ADIDA</th>\n",
       "      <th>CrostonClassic</th>\n",
       "      <th>IMAPA</th>\n",
       "      <th>WindowAverage</th>\n",
       "    </tr>\n",
       "    <tr>\n",
       "      <th>unique_id</th>\n",
       "      <th></th>\n",
       "      <th></th>\n",
       "      <th></th>\n",
       "      <th></th>\n",
       "      <th></th>\n",
       "      <th></th>\n",
       "      <th></th>\n",
       "      <th></th>\n",
       "      <th></th>\n",
       "      <th></th>\n",
       "      <th></th>\n",
       "    </tr>\n",
       "  </thead>\n",
       "  <tbody>\n",
       "    <tr>\n",
       "      <th>00610101</th>\n",
       "      <td>2022-05-22</td>\n",
       "      <td>2022-05-15</td>\n",
       "      <td>4.356709</td>\n",
       "      <td>4.209677</td>\n",
       "      <td>4.211737</td>\n",
       "      <td>4.216596</td>\n",
       "      <td>4.212008</td>\n",
       "      <td>4.278441</td>\n",
       "      <td>4.343714</td>\n",
       "      <td>4.278441</td>\n",
       "      <td>4.355211</td>\n",
       "    </tr>\n",
       "    <tr>\n",
       "      <th>00610101</th>\n",
       "      <td>2022-05-29</td>\n",
       "      <td>2022-05-15</td>\n",
       "      <td>4.127134</td>\n",
       "      <td>4.415180</td>\n",
       "      <td>4.211737</td>\n",
       "      <td>4.216596</td>\n",
       "      <td>4.210764</td>\n",
       "      <td>4.278441</td>\n",
       "      <td>4.343714</td>\n",
       "      <td>4.278441</td>\n",
       "      <td>4.355211</td>\n",
       "    </tr>\n",
       "    <tr>\n",
       "      <th>00610101</th>\n",
       "      <td>2022-06-05</td>\n",
       "      <td>2022-05-15</td>\n",
       "      <td>4.418840</td>\n",
       "      <td>4.622546</td>\n",
       "      <td>4.211737</td>\n",
       "      <td>4.216596</td>\n",
       "      <td>4.209521</td>\n",
       "      <td>4.278441</td>\n",
       "      <td>4.343714</td>\n",
       "      <td>4.278441</td>\n",
       "      <td>4.355211</td>\n",
       "    </tr>\n",
       "    <tr>\n",
       "      <th>00610101</th>\n",
       "      <td>2022-06-12</td>\n",
       "      <td>2022-05-15</td>\n",
       "      <td>5.236442</td>\n",
       "      <td>4.879785</td>\n",
       "      <td>4.211737</td>\n",
       "      <td>4.216596</td>\n",
       "      <td>4.208277</td>\n",
       "      <td>4.278441</td>\n",
       "      <td>4.343714</td>\n",
       "      <td>4.278441</td>\n",
       "      <td>4.355211</td>\n",
       "    </tr>\n",
       "    <tr>\n",
       "      <th>00610101</th>\n",
       "      <td>2022-06-19</td>\n",
       "      <td>2022-05-15</td>\n",
       "      <td>4.882802</td>\n",
       "      <td>4.635549</td>\n",
       "      <td>4.211737</td>\n",
       "      <td>4.216596</td>\n",
       "      <td>4.207034</td>\n",
       "      <td>4.278441</td>\n",
       "      <td>4.343714</td>\n",
       "      <td>4.278441</td>\n",
       "      <td>4.355211</td>\n",
       "    </tr>\n",
       "    <tr>\n",
       "      <th>...</th>\n",
       "      <td>...</td>\n",
       "      <td>...</td>\n",
       "      <td>...</td>\n",
       "      <td>...</td>\n",
       "      <td>...</td>\n",
       "      <td>...</td>\n",
       "      <td>...</td>\n",
       "      <td>...</td>\n",
       "      <td>...</td>\n",
       "      <td>...</td>\n",
       "      <td>...</td>\n",
       "    </tr>\n",
       "    <tr>\n",
       "      <th>999777</th>\n",
       "      <td>2022-11-27</td>\n",
       "      <td>2022-10-30</td>\n",
       "      <td>3.401197</td>\n",
       "      <td>1.550465</td>\n",
       "      <td>1.447240</td>\n",
       "      <td>1.386107</td>\n",
       "      <td>1.358799</td>\n",
       "      <td>1.386107</td>\n",
       "      <td>1.542326</td>\n",
       "      <td>1.386107</td>\n",
       "      <td>0.833051</td>\n",
       "    </tr>\n",
       "    <tr>\n",
       "      <th>999777</th>\n",
       "      <td>2022-12-04</td>\n",
       "      <td>2022-10-30</td>\n",
       "      <td>3.401197</td>\n",
       "      <td>1.550887</td>\n",
       "      <td>1.432532</td>\n",
       "      <td>1.386107</td>\n",
       "      <td>1.356698</td>\n",
       "      <td>1.386107</td>\n",
       "      <td>1.542326</td>\n",
       "      <td>1.386107</td>\n",
       "      <td>0.833051</td>\n",
       "    </tr>\n",
       "    <tr>\n",
       "      <th>999777</th>\n",
       "      <td>2022-12-11</td>\n",
       "      <td>2022-10-30</td>\n",
       "      <td>3.401197</td>\n",
       "      <td>1.550834</td>\n",
       "      <td>1.417823</td>\n",
       "      <td>1.386107</td>\n",
       "      <td>1.354597</td>\n",
       "      <td>1.386107</td>\n",
       "      <td>1.542326</td>\n",
       "      <td>1.386107</td>\n",
       "      <td>0.833051</td>\n",
       "    </tr>\n",
       "    <tr>\n",
       "      <th>999777</th>\n",
       "      <td>2022-12-18</td>\n",
       "      <td>2022-10-30</td>\n",
       "      <td>3.401197</td>\n",
       "      <td>1.550841</td>\n",
       "      <td>1.403114</td>\n",
       "      <td>1.386107</td>\n",
       "      <td>1.352497</td>\n",
       "      <td>1.386107</td>\n",
       "      <td>1.542326</td>\n",
       "      <td>1.386107</td>\n",
       "      <td>0.833051</td>\n",
       "    </tr>\n",
       "    <tr>\n",
       "      <th>999777</th>\n",
       "      <td>2022-12-25</td>\n",
       "      <td>2022-10-30</td>\n",
       "      <td>1.791759</td>\n",
       "      <td>1.550840</td>\n",
       "      <td>1.388405</td>\n",
       "      <td>1.386107</td>\n",
       "      <td>1.350396</td>\n",
       "      <td>1.386107</td>\n",
       "      <td>1.542326</td>\n",
       "      <td>1.386107</td>\n",
       "      <td>0.833051</td>\n",
       "    </tr>\n",
       "  </tbody>\n",
       "</table>\n",
       "<p>19328 rows × 11 columns</p>\n",
       "</div>"
      ],
      "text/plain": [
       "                  ds     cutoff         y  AutoARIMA   AutoETS  \\\n",
       "unique_id                                                        \n",
       "00610101  2022-05-22 2022-05-15  4.356709   4.209677  4.211737   \n",
       "00610101  2022-05-29 2022-05-15  4.127134   4.415180  4.211737   \n",
       "00610101  2022-06-05 2022-05-15  4.418840   4.622546  4.211737   \n",
       "00610101  2022-06-12 2022-05-15  5.236442   4.879785  4.211737   \n",
       "00610101  2022-06-19 2022-05-15  4.882802   4.635549  4.211737   \n",
       "...              ...        ...       ...        ...       ...   \n",
       "999777    2022-11-27 2022-10-30  3.401197   1.550465  1.447240   \n",
       "999777    2022-12-04 2022-10-30  3.401197   1.550887  1.432532   \n",
       "999777    2022-12-11 2022-10-30  3.401197   1.550834  1.417823   \n",
       "999777    2022-12-18 2022-10-30  3.401197   1.550841  1.403114   \n",
       "999777    2022-12-25 2022-10-30  1.791759   1.550840  1.388405   \n",
       "\n",
       "           DynamicOptimizedTheta  AutoTheta     ADIDA  CrostonClassic  \\\n",
       "unique_id                                                               \n",
       "00610101                4.216596   4.212008  4.278441        4.343714   \n",
       "00610101                4.216596   4.210764  4.278441        4.343714   \n",
       "00610101                4.216596   4.209521  4.278441        4.343714   \n",
       "00610101                4.216596   4.208277  4.278441        4.343714   \n",
       "00610101                4.216596   4.207034  4.278441        4.343714   \n",
       "...                          ...        ...       ...             ...   \n",
       "999777                  1.386107   1.358799  1.386107        1.542326   \n",
       "999777                  1.386107   1.356698  1.386107        1.542326   \n",
       "999777                  1.386107   1.354597  1.386107        1.542326   \n",
       "999777                  1.386107   1.352497  1.386107        1.542326   \n",
       "999777                  1.386107   1.350396  1.386107        1.542326   \n",
       "\n",
       "              IMAPA  WindowAverage  \n",
       "unique_id                           \n",
       "00610101   4.278441       4.355211  \n",
       "00610101   4.278441       4.355211  \n",
       "00610101   4.278441       4.355211  \n",
       "00610101   4.278441       4.355211  \n",
       "00610101   4.278441       4.355211  \n",
       "...             ...            ...  \n",
       "999777     1.386107       0.833051  \n",
       "999777     1.386107       0.833051  \n",
       "999777     1.386107       0.833051  \n",
       "999777     1.386107       0.833051  \n",
       "999777     1.386107       0.833051  \n",
       "\n",
       "[19328 rows x 11 columns]"
      ]
     },
     "execution_count": 23,
     "metadata": {},
     "output_type": "execute_result"
    }
   ],
   "source": [
    "log_crossvalidation_df = pd.read_csv('../out/cv/crossvalidation_weekly_8_models_2019-2022_log.csv')\n",
    "log_crossvalidation_df.set_index('unique_id', inplace=True)\n",
    "log_crossvalidation_df['ds'] = pd.to_datetime(log_crossvalidation_df['ds'])\n",
    "log_crossvalidation_df['cutoff'] = pd.to_datetime(log_crossvalidation_df['cutoff'])\n",
    "log_crossvalidation_df"
   ]
  },
  {
   "cell_type": "code",
   "execution_count": 24,
   "metadata": {},
   "outputs": [
    {
     "data": {
      "text/html": [
       "<div>\n",
       "<style scoped>\n",
       "    .dataframe tbody tr th:only-of-type {\n",
       "        vertical-align: middle;\n",
       "    }\n",
       "\n",
       "    .dataframe tbody tr th {\n",
       "        vertical-align: top;\n",
       "    }\n",
       "\n",
       "    .dataframe thead th {\n",
       "        text-align: right;\n",
       "    }\n",
       "</style>\n",
       "<table border=\"1\" class=\"dataframe\">\n",
       "  <thead>\n",
       "    <tr style=\"text-align: right;\">\n",
       "      <th></th>\n",
       "      <th>Unnamed: 0</th>\n",
       "      <th>id</th>\n",
       "      <th>model</th>\n",
       "      <th>rmse</th>\n",
       "      <th>mae</th>\n",
       "      <th>wape_m</th>\n",
       "    </tr>\n",
       "  </thead>\n",
       "  <tbody>\n",
       "    <tr>\n",
       "      <th>0</th>\n",
       "      <td>0</td>\n",
       "      <td>00610101</td>\n",
       "      <td>AutoARIMA</td>\n",
       "      <td>44</td>\n",
       "      <td>33.9</td>\n",
       "      <td>35.5</td>\n",
       "    </tr>\n",
       "    <tr>\n",
       "      <th>1</th>\n",
       "      <td>1</td>\n",
       "      <td>00610101</td>\n",
       "      <td>AutoETS</td>\n",
       "      <td>37</td>\n",
       "      <td>32.4</td>\n",
       "      <td>22.0</td>\n",
       "    </tr>\n",
       "    <tr>\n",
       "      <th>2</th>\n",
       "      <td>2</td>\n",
       "      <td>00610101</td>\n",
       "      <td>DynamicOptimizedTheta</td>\n",
       "      <td>37</td>\n",
       "      <td>32.3</td>\n",
       "      <td>21.6</td>\n",
       "    </tr>\n",
       "    <tr>\n",
       "      <th>3</th>\n",
       "      <td>3</td>\n",
       "      <td>00610101</td>\n",
       "      <td>AutoTheta</td>\n",
       "      <td>37</td>\n",
       "      <td>32.2</td>\n",
       "      <td>21.7</td>\n",
       "    </tr>\n",
       "    <tr>\n",
       "      <th>4</th>\n",
       "      <td>4</td>\n",
       "      <td>00610101</td>\n",
       "      <td>ADIDA</td>\n",
       "      <td>35</td>\n",
       "      <td>30.8</td>\n",
       "      <td>18.1</td>\n",
       "    </tr>\n",
       "    <tr>\n",
       "      <th>...</th>\n",
       "      <td>...</td>\n",
       "      <td>...</td>\n",
       "      <td>...</td>\n",
       "      <td>...</td>\n",
       "      <td>...</td>\n",
       "      <td>...</td>\n",
       "    </tr>\n",
       "    <tr>\n",
       "      <th>4827</th>\n",
       "      <td>4827</td>\n",
       "      <td>999777</td>\n",
       "      <td>AutoTheta</td>\n",
       "      <td>8</td>\n",
       "      <td>6.3</td>\n",
       "      <td>41.1</td>\n",
       "    </tr>\n",
       "    <tr>\n",
       "      <th>4828</th>\n",
       "      <td>4828</td>\n",
       "      <td>999777</td>\n",
       "      <td>ADIDA</td>\n",
       "      <td>8</td>\n",
       "      <td>6.3</td>\n",
       "      <td>42.3</td>\n",
       "    </tr>\n",
       "    <tr>\n",
       "      <th>4829</th>\n",
       "      <td>4829</td>\n",
       "      <td>999777</td>\n",
       "      <td>CrostonClassic</td>\n",
       "      <td>7</td>\n",
       "      <td>6.1</td>\n",
       "      <td>41.5</td>\n",
       "    </tr>\n",
       "    <tr>\n",
       "      <th>4830</th>\n",
       "      <td>4830</td>\n",
       "      <td>999777</td>\n",
       "      <td>IMAPA</td>\n",
       "      <td>8</td>\n",
       "      <td>6.3</td>\n",
       "      <td>42.3</td>\n",
       "    </tr>\n",
       "    <tr>\n",
       "      <th>4831</th>\n",
       "      <td>4831</td>\n",
       "      <td>999777</td>\n",
       "      <td>WindowAverage</td>\n",
       "      <td>8</td>\n",
       "      <td>6.7</td>\n",
       "      <td>42.7</td>\n",
       "    </tr>\n",
       "  </tbody>\n",
       "</table>\n",
       "<p>4832 rows × 6 columns</p>\n",
       "</div>"
      ],
      "text/plain": [
       "      Unnamed: 0        id                  model  rmse   mae  wape_m\n",
       "0              0  00610101              AutoARIMA    44  33.9    35.5\n",
       "1              1  00610101                AutoETS    37  32.4    22.0\n",
       "2              2  00610101  DynamicOptimizedTheta    37  32.3    21.6\n",
       "3              3  00610101              AutoTheta    37  32.2    21.7\n",
       "4              4  00610101                  ADIDA    35  30.8    18.1\n",
       "...          ...       ...                    ...   ...   ...     ...\n",
       "4827        4827    999777              AutoTheta     8   6.3    41.1\n",
       "4828        4828    999777                  ADIDA     8   6.3    42.3\n",
       "4829        4829    999777         CrostonClassic     7   6.1    41.5\n",
       "4830        4830    999777                  IMAPA     8   6.3    42.3\n",
       "4831        4831    999777          WindowAverage     8   6.7    42.7\n",
       "\n",
       "[4832 rows x 6 columns]"
      ]
     },
     "execution_count": 24,
     "metadata": {},
     "output_type": "execute_result"
    }
   ],
   "source": [
    "#f_global_metrics = evaluate(log_crossvalidation_df)\n",
    "#f_global_metrics.to_csv('../out/metrics/metrics_selected_weekly_exp_wape2monthly.csv')\n",
    "f_global_metrics = pd.read_csv('../out/metrics/metrics_selected_weekly_exp_wape2monthly.csv')\n",
    "f_global_metrics"
   ]
  },
  {
   "cell_type": "code",
   "execution_count": 25,
   "metadata": {},
   "outputs": [
    {
     "data": {
      "text/html": [
       "<div>\n",
       "<style scoped>\n",
       "    .dataframe tbody tr th:only-of-type {\n",
       "        vertical-align: middle;\n",
       "    }\n",
       "\n",
       "    .dataframe tbody tr th {\n",
       "        vertical-align: top;\n",
       "    }\n",
       "\n",
       "    .dataframe thead th {\n",
       "        text-align: right;\n",
       "    }\n",
       "</style>\n",
       "<table border=\"1\" class=\"dataframe\">\n",
       "  <thead>\n",
       "    <tr style=\"text-align: right;\">\n",
       "      <th></th>\n",
       "      <th>unique_id</th>\n",
       "      <th>mean_last_8_weeks</th>\n",
       "      <th>historic_mean</th>\n",
       "      <th>weeks_since_first_sale</th>\n",
       "      <th>sales_2022</th>\n",
       "      <th>% sales_2022</th>\n",
       "    </tr>\n",
       "    <tr>\n",
       "      <th>wape_m_level</th>\n",
       "      <th></th>\n",
       "      <th></th>\n",
       "      <th></th>\n",
       "      <th></th>\n",
       "      <th></th>\n",
       "      <th></th>\n",
       "    </tr>\n",
       "  </thead>\n",
       "  <tbody>\n",
       "    <tr>\n",
       "      <th>0%</th>\n",
       "      <td>NaN</td>\n",
       "      <td>NaN</td>\n",
       "      <td>NaN</td>\n",
       "      <td>NaN</td>\n",
       "      <td>NaN</td>\n",
       "      <td>NaN</td>\n",
       "    </tr>\n",
       "    <tr>\n",
       "      <th>1% - 10%</th>\n",
       "      <td>4.0</td>\n",
       "      <td>54.81</td>\n",
       "      <td>55.46</td>\n",
       "      <td>182.00</td>\n",
       "      <td>12107.50</td>\n",
       "      <td>2.34</td>\n",
       "    </tr>\n",
       "    <tr>\n",
       "      <th>11% - 20%</th>\n",
       "      <td>51.0</td>\n",
       "      <td>51.63</td>\n",
       "      <td>56.37</td>\n",
       "      <td>185.53</td>\n",
       "      <td>144431.75</td>\n",
       "      <td>27.95</td>\n",
       "    </tr>\n",
       "    <tr>\n",
       "      <th>21% - 30%</th>\n",
       "      <td>141.0</td>\n",
       "      <td>25.84</td>\n",
       "      <td>30.61</td>\n",
       "      <td>196.09</td>\n",
       "      <td>199018.50</td>\n",
       "      <td>38.52</td>\n",
       "    </tr>\n",
       "    <tr>\n",
       "      <th>31% - 40%</th>\n",
       "      <td>134.0</td>\n",
       "      <td>9.57</td>\n",
       "      <td>11.68</td>\n",
       "      <td>195.99</td>\n",
       "      <td>71371.75</td>\n",
       "      <td>13.81</td>\n",
       "    </tr>\n",
       "    <tr>\n",
       "      <th>41% - 50%</th>\n",
       "      <td>96.0</td>\n",
       "      <td>6.50</td>\n",
       "      <td>9.14</td>\n",
       "      <td>196.80</td>\n",
       "      <td>37616.75</td>\n",
       "      <td>7.28</td>\n",
       "    </tr>\n",
       "    <tr>\n",
       "      <th>51% - 60%</th>\n",
       "      <td>63.0</td>\n",
       "      <td>5.70</td>\n",
       "      <td>8.60</td>\n",
       "      <td>197.24</td>\n",
       "      <td>22033.25</td>\n",
       "      <td>4.26</td>\n",
       "    </tr>\n",
       "    <tr>\n",
       "      <th>61% - 70%</th>\n",
       "      <td>34.0</td>\n",
       "      <td>5.03</td>\n",
       "      <td>7.40</td>\n",
       "      <td>205.50</td>\n",
       "      <td>10602.00</td>\n",
       "      <td>2.05</td>\n",
       "    </tr>\n",
       "    <tr>\n",
       "      <th>71% - 80%</th>\n",
       "      <td>25.0</td>\n",
       "      <td>3.27</td>\n",
       "      <td>6.19</td>\n",
       "      <td>208.00</td>\n",
       "      <td>5438.50</td>\n",
       "      <td>1.05</td>\n",
       "    </tr>\n",
       "    <tr>\n",
       "      <th>81% - 90%</th>\n",
       "      <td>12.0</td>\n",
       "      <td>11.02</td>\n",
       "      <td>10.82</td>\n",
       "      <td>198.17</td>\n",
       "      <td>6171.00</td>\n",
       "      <td>1.19</td>\n",
       "    </tr>\n",
       "    <tr>\n",
       "      <th>91% - 100%</th>\n",
       "      <td>16.0</td>\n",
       "      <td>2.91</td>\n",
       "      <td>5.49</td>\n",
       "      <td>208.00</td>\n",
       "      <td>2869.50</td>\n",
       "      <td>0.56</td>\n",
       "    </tr>\n",
       "    <tr>\n",
       "      <th>&gt;100%</th>\n",
       "      <td>28.0</td>\n",
       "      <td>2.89</td>\n",
       "      <td>4.44</td>\n",
       "      <td>197.68</td>\n",
       "      <td>5007.25</td>\n",
       "      <td>0.97</td>\n",
       "    </tr>\n",
       "  </tbody>\n",
       "</table>\n",
       "</div>"
      ],
      "text/plain": [
       "              unique_id  mean_last_8_weeks  historic_mean  \\\n",
       "wape_m_level                                                \n",
       "0%                  NaN                NaN            NaN   \n",
       "1% - 10%            4.0              54.81          55.46   \n",
       "11% - 20%          51.0              51.63          56.37   \n",
       "21% - 30%         141.0              25.84          30.61   \n",
       "31% - 40%         134.0               9.57          11.68   \n",
       "41% - 50%          96.0               6.50           9.14   \n",
       "51% - 60%          63.0               5.70           8.60   \n",
       "61% - 70%          34.0               5.03           7.40   \n",
       "71% - 80%          25.0               3.27           6.19   \n",
       "81% - 90%          12.0              11.02          10.82   \n",
       "91% - 100%         16.0               2.91           5.49   \n",
       ">100%              28.0               2.89           4.44   \n",
       "\n",
       "              weeks_since_first_sale  sales_2022  % sales_2022  \n",
       "wape_m_level                                                    \n",
       "0%                               NaN         NaN           NaN  \n",
       "1% - 10%                      182.00    12107.50          2.34  \n",
       "11% - 20%                     185.53   144431.75         27.95  \n",
       "21% - 30%                     196.09   199018.50         38.52  \n",
       "31% - 40%                     195.99    71371.75         13.81  \n",
       "41% - 50%                     196.80    37616.75          7.28  \n",
       "51% - 60%                     197.24    22033.25          4.26  \n",
       "61% - 70%                     205.50    10602.00          2.05  \n",
       "71% - 80%                     208.00     5438.50          1.05  \n",
       "81% - 90%                     198.17     6171.00          1.19  \n",
       "91% - 100%                    208.00     2869.50          0.56  \n",
       ">100%                         197.68     5007.25          0.97  "
      ]
     },
     "execution_count": 25,
     "metadata": {},
     "output_type": "execute_result"
    }
   ],
   "source": [
    "f_results_summary, f_models_table, f_global_wape_m = summarize_errors(f_global_metrics, 'wape_m')\n",
    "f_results_summary"
   ]
  },
  {
   "cell_type": "code",
   "execution_count": 26,
   "metadata": {},
   "outputs": [
    {
     "data": {
      "text/plain": [
       "model\n",
       "AutoETS                  193\n",
       "AutoARIMA                141\n",
       "DynamicOptimizedTheta     87\n",
       "WindowAverage             77\n",
       "CrostonClassic            57\n",
       "AutoTheta                 35\n",
       "ADIDA                     14\n",
       "Name: unique_id, dtype: int64"
      ]
     },
     "execution_count": 26,
     "metadata": {},
     "output_type": "execute_result"
    }
   ],
   "source": [
    "f_models_table"
   ]
  },
  {
   "cell_type": "code",
   "execution_count": 27,
   "metadata": {},
   "outputs": [
    {
     "data": {
      "text/plain": [
       "44.9546357615894"
      ]
     },
     "execution_count": 27,
     "metadata": {},
     "output_type": "execute_result"
    }
   ],
   "source": [
    "f_global_wape_m"
   ]
  },
  {
   "cell_type": "markdown",
   "metadata": {},
   "source": [
    "Forecasting:\n",
    "* We calculated the sales forecasting that corresponds to one year (52 weeks)\n",
    "* We convert the logarithmic forecast values back to their exponential form.\n",
    "* We chart the forecasts, delineating products by their respective models."
   ]
  },
  {
   "cell_type": "code",
   "execution_count": 28,
   "metadata": {},
   "outputs": [
    {
     "data": {
      "text/html": [
       "<div>\n",
       "<style scoped>\n",
       "    .dataframe tbody tr th:only-of-type {\n",
       "        vertical-align: middle;\n",
       "    }\n",
       "\n",
       "    .dataframe tbody tr th {\n",
       "        vertical-align: top;\n",
       "    }\n",
       "\n",
       "    .dataframe thead th {\n",
       "        text-align: right;\n",
       "    }\n",
       "</style>\n",
       "<table border=\"1\" class=\"dataframe\">\n",
       "  <thead>\n",
       "    <tr style=\"text-align: right;\">\n",
       "      <th></th>\n",
       "      <th>ds</th>\n",
       "      <th>AutoARIMA</th>\n",
       "      <th>AutoARIMA-lo-90</th>\n",
       "      <th>AutoARIMA-hi-90</th>\n",
       "      <th>AutoETS</th>\n",
       "      <th>AutoETS-lo-90</th>\n",
       "      <th>AutoETS-hi-90</th>\n",
       "      <th>DynamicOptimizedTheta</th>\n",
       "      <th>DynamicOptimizedTheta-lo-90</th>\n",
       "      <th>DynamicOptimizedTheta-hi-90</th>\n",
       "      <th>AutoTheta</th>\n",
       "      <th>AutoTheta-lo-90</th>\n",
       "      <th>AutoTheta-hi-90</th>\n",
       "      <th>ADIDA</th>\n",
       "      <th>CrostonClassic</th>\n",
       "      <th>IMAPA</th>\n",
       "      <th>WindowAverage</th>\n",
       "    </tr>\n",
       "    <tr>\n",
       "      <th>unique_id</th>\n",
       "      <th></th>\n",
       "      <th></th>\n",
       "      <th></th>\n",
       "      <th></th>\n",
       "      <th></th>\n",
       "      <th></th>\n",
       "      <th></th>\n",
       "      <th></th>\n",
       "      <th></th>\n",
       "      <th></th>\n",
       "      <th></th>\n",
       "      <th></th>\n",
       "      <th></th>\n",
       "      <th></th>\n",
       "      <th></th>\n",
       "      <th></th>\n",
       "      <th></th>\n",
       "    </tr>\n",
       "  </thead>\n",
       "  <tbody>\n",
       "    <tr>\n",
       "      <th>00610101</th>\n",
       "      <td>2023-01-01</td>\n",
       "      <td>4.571902</td>\n",
       "      <td>3.849585</td>\n",
       "      <td>5.294219</td>\n",
       "      <td>4.437175</td>\n",
       "      <td>3.669998</td>\n",
       "      <td>5.204353</td>\n",
       "      <td>4.427267</td>\n",
       "      <td>3.725772</td>\n",
       "      <td>5.312076</td>\n",
       "      <td>4.427694</td>\n",
       "      <td>3.732590</td>\n",
       "      <td>5.304441</td>\n",
       "      <td>4.249087</td>\n",
       "      <td>4.101725</td>\n",
       "      <td>4.249087</td>\n",
       "      <td>4.150962</td>\n",
       "    </tr>\n",
       "    <tr>\n",
       "      <th>00610101</th>\n",
       "      <td>2023-01-08</td>\n",
       "      <td>4.427928</td>\n",
       "      <td>3.631670</td>\n",
       "      <td>5.224186</td>\n",
       "      <td>4.437175</td>\n",
       "      <td>3.594560</td>\n",
       "      <td>5.279791</td>\n",
       "      <td>4.427267</td>\n",
       "      <td>3.548055</td>\n",
       "      <td>5.149320</td>\n",
       "      <td>4.425920</td>\n",
       "      <td>3.553999</td>\n",
       "      <td>5.143211</td>\n",
       "      <td>4.249087</td>\n",
       "      <td>4.101725</td>\n",
       "      <td>4.249087</td>\n",
       "      <td>4.150962</td>\n",
       "    </tr>\n",
       "    <tr>\n",
       "      <th>00610101</th>\n",
       "      <td>2023-01-15</td>\n",
       "      <td>4.324656</td>\n",
       "      <td>3.511581</td>\n",
       "      <td>5.137730</td>\n",
       "      <td>4.437175</td>\n",
       "      <td>3.525342</td>\n",
       "      <td>5.349009</td>\n",
       "      <td>4.427267</td>\n",
       "      <td>3.333001</td>\n",
       "      <td>5.318911</td>\n",
       "      <td>4.424146</td>\n",
       "      <td>3.335345</td>\n",
       "      <td>5.310308</td>\n",
       "      <td>4.249087</td>\n",
       "      <td>4.101725</td>\n",
       "      <td>4.249087</td>\n",
       "      <td>4.150962</td>\n",
       "    </tr>\n",
       "    <tr>\n",
       "      <th>00610101</th>\n",
       "      <td>2023-01-22</td>\n",
       "      <td>4.284157</td>\n",
       "      <td>3.466187</td>\n",
       "      <td>5.102127</td>\n",
       "      <td>4.437175</td>\n",
       "      <td>3.461019</td>\n",
       "      <td>5.413331</td>\n",
       "      <td>4.427267</td>\n",
       "      <td>3.473098</td>\n",
       "      <td>5.298274</td>\n",
       "      <td>4.422372</td>\n",
       "      <td>3.475615</td>\n",
       "      <td>5.291093</td>\n",
       "      <td>4.249087</td>\n",
       "      <td>4.101725</td>\n",
       "      <td>4.249087</td>\n",
       "      <td>4.150962</td>\n",
       "    </tr>\n",
       "    <tr>\n",
       "      <th>00610101</th>\n",
       "      <td>2023-01-29</td>\n",
       "      <td>4.272100</td>\n",
       "      <td>3.452197</td>\n",
       "      <td>5.092002</td>\n",
       "      <td>4.437175</td>\n",
       "      <td>3.400681</td>\n",
       "      <td>5.473669</td>\n",
       "      <td>4.427267</td>\n",
       "      <td>3.384021</td>\n",
       "      <td>5.445573</td>\n",
       "      <td>4.420598</td>\n",
       "      <td>3.382599</td>\n",
       "      <td>5.435055</td>\n",
       "      <td>4.249087</td>\n",
       "      <td>4.101725</td>\n",
       "      <td>4.249087</td>\n",
       "      <td>4.150962</td>\n",
       "    </tr>\n",
       "    <tr>\n",
       "      <th>...</th>\n",
       "      <td>...</td>\n",
       "      <td>...</td>\n",
       "      <td>...</td>\n",
       "      <td>...</td>\n",
       "      <td>...</td>\n",
       "      <td>...</td>\n",
       "      <td>...</td>\n",
       "      <td>...</td>\n",
       "      <td>...</td>\n",
       "      <td>...</td>\n",
       "      <td>...</td>\n",
       "      <td>...</td>\n",
       "      <td>...</td>\n",
       "      <td>...</td>\n",
       "      <td>...</td>\n",
       "      <td>...</td>\n",
       "      <td>...</td>\n",
       "    </tr>\n",
       "    <tr>\n",
       "      <th>999777</th>\n",
       "      <td>2023-11-26</td>\n",
       "      <td>2.148324</td>\n",
       "      <td>0.690025</td>\n",
       "      <td>3.606622</td>\n",
       "      <td>1.838054</td>\n",
       "      <td>0.589007</td>\n",
       "      <td>3.087101</td>\n",
       "      <td>2.231860</td>\n",
       "      <td>0.517840</td>\n",
       "      <td>3.980203</td>\n",
       "      <td>2.163162</td>\n",
       "      <td>0.472970</td>\n",
       "      <td>3.946977</td>\n",
       "      <td>2.231860</td>\n",
       "      <td>2.184676</td>\n",
       "      <td>2.231860</td>\n",
       "      <td>2.998838</td>\n",
       "    </tr>\n",
       "    <tr>\n",
       "      <th>999777</th>\n",
       "      <td>2023-12-03</td>\n",
       "      <td>2.148324</td>\n",
       "      <td>0.686255</td>\n",
       "      <td>3.610393</td>\n",
       "      <td>1.838036</td>\n",
       "      <td>0.588983</td>\n",
       "      <td>3.087088</td>\n",
       "      <td>2.231860</td>\n",
       "      <td>0.634613</td>\n",
       "      <td>3.469981</td>\n",
       "      <td>2.161957</td>\n",
       "      <td>0.554034</td>\n",
       "      <td>3.440127</td>\n",
       "      <td>2.231860</td>\n",
       "      <td>2.184676</td>\n",
       "      <td>2.231860</td>\n",
       "      <td>2.998838</td>\n",
       "    </tr>\n",
       "    <tr>\n",
       "      <th>999777</th>\n",
       "      <td>2023-12-10</td>\n",
       "      <td>2.148324</td>\n",
       "      <td>0.682494</td>\n",
       "      <td>3.614153</td>\n",
       "      <td>1.838018</td>\n",
       "      <td>0.588960</td>\n",
       "      <td>3.087076</td>\n",
       "      <td>2.231860</td>\n",
       "      <td>0.466115</td>\n",
       "      <td>4.059187</td>\n",
       "      <td>2.160752</td>\n",
       "      <td>0.383560</td>\n",
       "      <td>4.023180</td>\n",
       "      <td>2.231860</td>\n",
       "      <td>2.184676</td>\n",
       "      <td>2.231860</td>\n",
       "      <td>2.998838</td>\n",
       "    </tr>\n",
       "    <tr>\n",
       "      <th>999777</th>\n",
       "      <td>2023-12-17</td>\n",
       "      <td>2.148324</td>\n",
       "      <td>0.678743</td>\n",
       "      <td>3.617904</td>\n",
       "      <td>1.838000</td>\n",
       "      <td>0.588936</td>\n",
       "      <td>3.087064</td>\n",
       "      <td>2.231860</td>\n",
       "      <td>0.619015</td>\n",
       "      <td>3.812786</td>\n",
       "      <td>2.159547</td>\n",
       "      <td>0.534971</td>\n",
       "      <td>3.768295</td>\n",
       "      <td>2.231860</td>\n",
       "      <td>2.184676</td>\n",
       "      <td>2.231860</td>\n",
       "      <td>2.998838</td>\n",
       "    </tr>\n",
       "    <tr>\n",
       "      <th>999777</th>\n",
       "      <td>2023-12-24</td>\n",
       "      <td>2.148324</td>\n",
       "      <td>0.675002</td>\n",
       "      <td>3.621645</td>\n",
       "      <td>1.837983</td>\n",
       "      <td>0.588913</td>\n",
       "      <td>3.087054</td>\n",
       "      <td>2.231860</td>\n",
       "      <td>0.812155</td>\n",
       "      <td>3.759160</td>\n",
       "      <td>2.158342</td>\n",
       "      <td>0.763307</td>\n",
       "      <td>3.717737</td>\n",
       "      <td>2.231860</td>\n",
       "      <td>2.184676</td>\n",
       "      <td>2.231860</td>\n",
       "      <td>2.998838</td>\n",
       "    </tr>\n",
       "  </tbody>\n",
       "</table>\n",
       "<p>31408 rows × 17 columns</p>\n",
       "</div>"
      ],
      "text/plain": [
       "                  ds  AutoARIMA  AutoARIMA-lo-90  AutoARIMA-hi-90   AutoETS  \\\n",
       "unique_id                                                                     \n",
       "00610101  2023-01-01   4.571902         3.849585         5.294219  4.437175   \n",
       "00610101  2023-01-08   4.427928         3.631670         5.224186  4.437175   \n",
       "00610101  2023-01-15   4.324656         3.511581         5.137730  4.437175   \n",
       "00610101  2023-01-22   4.284157         3.466187         5.102127  4.437175   \n",
       "00610101  2023-01-29   4.272100         3.452197         5.092002  4.437175   \n",
       "...              ...        ...              ...              ...       ...   \n",
       "999777    2023-11-26   2.148324         0.690025         3.606622  1.838054   \n",
       "999777    2023-12-03   2.148324         0.686255         3.610393  1.838036   \n",
       "999777    2023-12-10   2.148324         0.682494         3.614153  1.838018   \n",
       "999777    2023-12-17   2.148324         0.678743         3.617904  1.838000   \n",
       "999777    2023-12-24   2.148324         0.675002         3.621645  1.837983   \n",
       "\n",
       "           AutoETS-lo-90  AutoETS-hi-90  DynamicOptimizedTheta  \\\n",
       "unique_id                                                        \n",
       "00610101        3.669998       5.204353               4.427267   \n",
       "00610101        3.594560       5.279791               4.427267   \n",
       "00610101        3.525342       5.349009               4.427267   \n",
       "00610101        3.461019       5.413331               4.427267   \n",
       "00610101        3.400681       5.473669               4.427267   \n",
       "...                  ...            ...                    ...   \n",
       "999777          0.589007       3.087101               2.231860   \n",
       "999777          0.588983       3.087088               2.231860   \n",
       "999777          0.588960       3.087076               2.231860   \n",
       "999777          0.588936       3.087064               2.231860   \n",
       "999777          0.588913       3.087054               2.231860   \n",
       "\n",
       "           DynamicOptimizedTheta-lo-90  DynamicOptimizedTheta-hi-90  \\\n",
       "unique_id                                                             \n",
       "00610101                      3.725772                     5.312076   \n",
       "00610101                      3.548055                     5.149320   \n",
       "00610101                      3.333001                     5.318911   \n",
       "00610101                      3.473098                     5.298274   \n",
       "00610101                      3.384021                     5.445573   \n",
       "...                                ...                          ...   \n",
       "999777                        0.517840                     3.980203   \n",
       "999777                        0.634613                     3.469981   \n",
       "999777                        0.466115                     4.059187   \n",
       "999777                        0.619015                     3.812786   \n",
       "999777                        0.812155                     3.759160   \n",
       "\n",
       "           AutoTheta  AutoTheta-lo-90  AutoTheta-hi-90     ADIDA  \\\n",
       "unique_id                                                          \n",
       "00610101    4.427694         3.732590         5.304441  4.249087   \n",
       "00610101    4.425920         3.553999         5.143211  4.249087   \n",
       "00610101    4.424146         3.335345         5.310308  4.249087   \n",
       "00610101    4.422372         3.475615         5.291093  4.249087   \n",
       "00610101    4.420598         3.382599         5.435055  4.249087   \n",
       "...              ...              ...              ...       ...   \n",
       "999777      2.163162         0.472970         3.946977  2.231860   \n",
       "999777      2.161957         0.554034         3.440127  2.231860   \n",
       "999777      2.160752         0.383560         4.023180  2.231860   \n",
       "999777      2.159547         0.534971         3.768295  2.231860   \n",
       "999777      2.158342         0.763307         3.717737  2.231860   \n",
       "\n",
       "           CrostonClassic     IMAPA  WindowAverage  \n",
       "unique_id                                           \n",
       "00610101         4.101725  4.249087       4.150962  \n",
       "00610101         4.101725  4.249087       4.150962  \n",
       "00610101         4.101725  4.249087       4.150962  \n",
       "00610101         4.101725  4.249087       4.150962  \n",
       "00610101         4.101725  4.249087       4.150962  \n",
       "...                   ...       ...            ...  \n",
       "999777           2.184676  2.231860       2.998838  \n",
       "999777           2.184676  2.231860       2.998838  \n",
       "999777           2.184676  2.231860       2.998838  \n",
       "999777           2.184676  2.231860       2.998838  \n",
       "999777           2.184676  2.231860       2.998838  \n",
       "\n",
       "[31408 rows x 17 columns]"
      ]
     },
     "execution_count": 28,
     "metadata": {},
     "output_type": "execute_result"
    }
   ],
   "source": [
    "#log_forecast = log_sf.forecast(h=52, level=[90])\n",
    "#log_forecast.to_csv('../out/forecast/weekly_log_52_8.8.23.csv')\n",
    "\n",
    "log_forecast = pd.read_csv('../out/forecast/weekly_log_52_8.8.23.csv')\n",
    "log_forecast.set_index('unique_id', inplace=True)\n",
    "log_forecast['ds'] = pd.to_datetime(log_forecast['ds'])\n",
    "log_forecast"
   ]
  },
  {
   "cell_type": "code",
   "execution_count": 29,
   "metadata": {},
   "outputs": [
    {
     "data": {
      "text/html": [
       "<div>\n",
       "<style scoped>\n",
       "    .dataframe tbody tr th:only-of-type {\n",
       "        vertical-align: middle;\n",
       "    }\n",
       "\n",
       "    .dataframe tbody tr th {\n",
       "        vertical-align: top;\n",
       "    }\n",
       "\n",
       "    .dataframe thead th {\n",
       "        text-align: right;\n",
       "    }\n",
       "</style>\n",
       "<table border=\"1\" class=\"dataframe\">\n",
       "  <thead>\n",
       "    <tr style=\"text-align: right;\">\n",
       "      <th></th>\n",
       "      <th>ds</th>\n",
       "      <th>AutoARIMA</th>\n",
       "      <th>AutoARIMA-lo-90</th>\n",
       "      <th>AutoARIMA-hi-90</th>\n",
       "      <th>AutoETS</th>\n",
       "      <th>AutoETS-lo-90</th>\n",
       "      <th>AutoETS-hi-90</th>\n",
       "      <th>DynamicOptimizedTheta</th>\n",
       "      <th>DynamicOptimizedTheta-lo-90</th>\n",
       "      <th>DynamicOptimizedTheta-hi-90</th>\n",
       "      <th>AutoTheta</th>\n",
       "      <th>AutoTheta-lo-90</th>\n",
       "      <th>AutoTheta-hi-90</th>\n",
       "      <th>ADIDA</th>\n",
       "      <th>CrostonClassic</th>\n",
       "      <th>IMAPA</th>\n",
       "      <th>WindowAverage</th>\n",
       "    </tr>\n",
       "    <tr>\n",
       "      <th>unique_id</th>\n",
       "      <th></th>\n",
       "      <th></th>\n",
       "      <th></th>\n",
       "      <th></th>\n",
       "      <th></th>\n",
       "      <th></th>\n",
       "      <th></th>\n",
       "      <th></th>\n",
       "      <th></th>\n",
       "      <th></th>\n",
       "      <th></th>\n",
       "      <th></th>\n",
       "      <th></th>\n",
       "      <th></th>\n",
       "      <th></th>\n",
       "      <th></th>\n",
       "      <th></th>\n",
       "    </tr>\n",
       "  </thead>\n",
       "  <tbody>\n",
       "    <tr>\n",
       "      <th>00610101</th>\n",
       "      <td>2023-01-01</td>\n",
       "      <td>96.0</td>\n",
       "      <td>46.0</td>\n",
       "      <td>198.0</td>\n",
       "      <td>84.0</td>\n",
       "      <td>38.0</td>\n",
       "      <td>181.0</td>\n",
       "      <td>83.0</td>\n",
       "      <td>41.0</td>\n",
       "      <td>202.0</td>\n",
       "      <td>83.0</td>\n",
       "      <td>41.0</td>\n",
       "      <td>200.0</td>\n",
       "      <td>69.0</td>\n",
       "      <td>59.0</td>\n",
       "      <td>69.0</td>\n",
       "      <td>62.0</td>\n",
       "    </tr>\n",
       "    <tr>\n",
       "      <th>00610101</th>\n",
       "      <td>2023-01-08</td>\n",
       "      <td>83.0</td>\n",
       "      <td>37.0</td>\n",
       "      <td>185.0</td>\n",
       "      <td>84.0</td>\n",
       "      <td>35.0</td>\n",
       "      <td>195.0</td>\n",
       "      <td>83.0</td>\n",
       "      <td>34.0</td>\n",
       "      <td>171.0</td>\n",
       "      <td>83.0</td>\n",
       "      <td>34.0</td>\n",
       "      <td>170.0</td>\n",
       "      <td>69.0</td>\n",
       "      <td>59.0</td>\n",
       "      <td>69.0</td>\n",
       "      <td>62.0</td>\n",
       "    </tr>\n",
       "    <tr>\n",
       "      <th>00610101</th>\n",
       "      <td>2023-01-15</td>\n",
       "      <td>75.0</td>\n",
       "      <td>33.0</td>\n",
       "      <td>169.0</td>\n",
       "      <td>84.0</td>\n",
       "      <td>33.0</td>\n",
       "      <td>209.0</td>\n",
       "      <td>83.0</td>\n",
       "      <td>27.0</td>\n",
       "      <td>203.0</td>\n",
       "      <td>82.0</td>\n",
       "      <td>27.0</td>\n",
       "      <td>201.0</td>\n",
       "      <td>69.0</td>\n",
       "      <td>59.0</td>\n",
       "      <td>69.0</td>\n",
       "      <td>62.0</td>\n",
       "    </tr>\n",
       "    <tr>\n",
       "      <th>00610101</th>\n",
       "      <td>2023-01-22</td>\n",
       "      <td>72.0</td>\n",
       "      <td>31.0</td>\n",
       "      <td>163.0</td>\n",
       "      <td>84.0</td>\n",
       "      <td>31.0</td>\n",
       "      <td>223.0</td>\n",
       "      <td>83.0</td>\n",
       "      <td>31.0</td>\n",
       "      <td>199.0</td>\n",
       "      <td>82.0</td>\n",
       "      <td>31.0</td>\n",
       "      <td>198.0</td>\n",
       "      <td>69.0</td>\n",
       "      <td>59.0</td>\n",
       "      <td>69.0</td>\n",
       "      <td>62.0</td>\n",
       "    </tr>\n",
       "    <tr>\n",
       "      <th>00610101</th>\n",
       "      <td>2023-01-29</td>\n",
       "      <td>71.0</td>\n",
       "      <td>31.0</td>\n",
       "      <td>162.0</td>\n",
       "      <td>84.0</td>\n",
       "      <td>29.0</td>\n",
       "      <td>237.0</td>\n",
       "      <td>83.0</td>\n",
       "      <td>28.0</td>\n",
       "      <td>231.0</td>\n",
       "      <td>82.0</td>\n",
       "      <td>28.0</td>\n",
       "      <td>228.0</td>\n",
       "      <td>69.0</td>\n",
       "      <td>59.0</td>\n",
       "      <td>69.0</td>\n",
       "      <td>62.0</td>\n",
       "    </tr>\n",
       "    <tr>\n",
       "      <th>...</th>\n",
       "      <td>...</td>\n",
       "      <td>...</td>\n",
       "      <td>...</td>\n",
       "      <td>...</td>\n",
       "      <td>...</td>\n",
       "      <td>...</td>\n",
       "      <td>...</td>\n",
       "      <td>...</td>\n",
       "      <td>...</td>\n",
       "      <td>...</td>\n",
       "      <td>...</td>\n",
       "      <td>...</td>\n",
       "      <td>...</td>\n",
       "      <td>...</td>\n",
       "      <td>...</td>\n",
       "      <td>...</td>\n",
       "      <td>...</td>\n",
       "    </tr>\n",
       "    <tr>\n",
       "      <th>999777</th>\n",
       "      <td>2023-11-26</td>\n",
       "      <td>8.0</td>\n",
       "      <td>1.0</td>\n",
       "      <td>36.0</td>\n",
       "      <td>5.0</td>\n",
       "      <td>1.0</td>\n",
       "      <td>21.0</td>\n",
       "      <td>8.0</td>\n",
       "      <td>1.0</td>\n",
       "      <td>53.0</td>\n",
       "      <td>8.0</td>\n",
       "      <td>1.0</td>\n",
       "      <td>51.0</td>\n",
       "      <td>8.0</td>\n",
       "      <td>8.0</td>\n",
       "      <td>8.0</td>\n",
       "      <td>19.0</td>\n",
       "    </tr>\n",
       "    <tr>\n",
       "      <th>999777</th>\n",
       "      <td>2023-12-03</td>\n",
       "      <td>8.0</td>\n",
       "      <td>1.0</td>\n",
       "      <td>36.0</td>\n",
       "      <td>5.0</td>\n",
       "      <td>1.0</td>\n",
       "      <td>21.0</td>\n",
       "      <td>8.0</td>\n",
       "      <td>1.0</td>\n",
       "      <td>31.0</td>\n",
       "      <td>8.0</td>\n",
       "      <td>1.0</td>\n",
       "      <td>30.0</td>\n",
       "      <td>8.0</td>\n",
       "      <td>8.0</td>\n",
       "      <td>8.0</td>\n",
       "      <td>19.0</td>\n",
       "    </tr>\n",
       "    <tr>\n",
       "      <th>999777</th>\n",
       "      <td>2023-12-10</td>\n",
       "      <td>8.0</td>\n",
       "      <td>1.0</td>\n",
       "      <td>36.0</td>\n",
       "      <td>5.0</td>\n",
       "      <td>1.0</td>\n",
       "      <td>21.0</td>\n",
       "      <td>8.0</td>\n",
       "      <td>1.0</td>\n",
       "      <td>57.0</td>\n",
       "      <td>8.0</td>\n",
       "      <td>0.0</td>\n",
       "      <td>55.0</td>\n",
       "      <td>8.0</td>\n",
       "      <td>8.0</td>\n",
       "      <td>8.0</td>\n",
       "      <td>19.0</td>\n",
       "    </tr>\n",
       "    <tr>\n",
       "      <th>999777</th>\n",
       "      <td>2023-12-17</td>\n",
       "      <td>8.0</td>\n",
       "      <td>1.0</td>\n",
       "      <td>36.0</td>\n",
       "      <td>5.0</td>\n",
       "      <td>1.0</td>\n",
       "      <td>21.0</td>\n",
       "      <td>8.0</td>\n",
       "      <td>1.0</td>\n",
       "      <td>44.0</td>\n",
       "      <td>8.0</td>\n",
       "      <td>1.0</td>\n",
       "      <td>42.0</td>\n",
       "      <td>8.0</td>\n",
       "      <td>8.0</td>\n",
       "      <td>8.0</td>\n",
       "      <td>19.0</td>\n",
       "    </tr>\n",
       "    <tr>\n",
       "      <th>999777</th>\n",
       "      <td>2023-12-24</td>\n",
       "      <td>8.0</td>\n",
       "      <td>1.0</td>\n",
       "      <td>36.0</td>\n",
       "      <td>5.0</td>\n",
       "      <td>1.0</td>\n",
       "      <td>21.0</td>\n",
       "      <td>8.0</td>\n",
       "      <td>1.0</td>\n",
       "      <td>42.0</td>\n",
       "      <td>8.0</td>\n",
       "      <td>1.0</td>\n",
       "      <td>40.0</td>\n",
       "      <td>8.0</td>\n",
       "      <td>8.0</td>\n",
       "      <td>8.0</td>\n",
       "      <td>19.0</td>\n",
       "    </tr>\n",
       "  </tbody>\n",
       "</table>\n",
       "<p>31408 rows × 17 columns</p>\n",
       "</div>"
      ],
      "text/plain": [
       "                  ds  AutoARIMA  AutoARIMA-lo-90  AutoARIMA-hi-90  AutoETS  \\\n",
       "unique_id                                                                    \n",
       "00610101  2023-01-01       96.0             46.0            198.0     84.0   \n",
       "00610101  2023-01-08       83.0             37.0            185.0     84.0   \n",
       "00610101  2023-01-15       75.0             33.0            169.0     84.0   \n",
       "00610101  2023-01-22       72.0             31.0            163.0     84.0   \n",
       "00610101  2023-01-29       71.0             31.0            162.0     84.0   \n",
       "...              ...        ...              ...              ...      ...   \n",
       "999777    2023-11-26        8.0              1.0             36.0      5.0   \n",
       "999777    2023-12-03        8.0              1.0             36.0      5.0   \n",
       "999777    2023-12-10        8.0              1.0             36.0      5.0   \n",
       "999777    2023-12-17        8.0              1.0             36.0      5.0   \n",
       "999777    2023-12-24        8.0              1.0             36.0      5.0   \n",
       "\n",
       "           AutoETS-lo-90  AutoETS-hi-90  DynamicOptimizedTheta  \\\n",
       "unique_id                                                        \n",
       "00610101            38.0          181.0                   83.0   \n",
       "00610101            35.0          195.0                   83.0   \n",
       "00610101            33.0          209.0                   83.0   \n",
       "00610101            31.0          223.0                   83.0   \n",
       "00610101            29.0          237.0                   83.0   \n",
       "...                  ...            ...                    ...   \n",
       "999777               1.0           21.0                    8.0   \n",
       "999777               1.0           21.0                    8.0   \n",
       "999777               1.0           21.0                    8.0   \n",
       "999777               1.0           21.0                    8.0   \n",
       "999777               1.0           21.0                    8.0   \n",
       "\n",
       "           DynamicOptimizedTheta-lo-90  DynamicOptimizedTheta-hi-90  \\\n",
       "unique_id                                                             \n",
       "00610101                          41.0                        202.0   \n",
       "00610101                          34.0                        171.0   \n",
       "00610101                          27.0                        203.0   \n",
       "00610101                          31.0                        199.0   \n",
       "00610101                          28.0                        231.0   \n",
       "...                                ...                          ...   \n",
       "999777                             1.0                         53.0   \n",
       "999777                             1.0                         31.0   \n",
       "999777                             1.0                         57.0   \n",
       "999777                             1.0                         44.0   \n",
       "999777                             1.0                         42.0   \n",
       "\n",
       "           AutoTheta  AutoTheta-lo-90  AutoTheta-hi-90  ADIDA  CrostonClassic  \\\n",
       "unique_id                                                                       \n",
       "00610101        83.0             41.0            200.0   69.0            59.0   \n",
       "00610101        83.0             34.0            170.0   69.0            59.0   \n",
       "00610101        82.0             27.0            201.0   69.0            59.0   \n",
       "00610101        82.0             31.0            198.0   69.0            59.0   \n",
       "00610101        82.0             28.0            228.0   69.0            59.0   \n",
       "...              ...              ...              ...    ...             ...   \n",
       "999777           8.0              1.0             51.0    8.0             8.0   \n",
       "999777           8.0              1.0             30.0    8.0             8.0   \n",
       "999777           8.0              0.0             55.0    8.0             8.0   \n",
       "999777           8.0              1.0             42.0    8.0             8.0   \n",
       "999777           8.0              1.0             40.0    8.0             8.0   \n",
       "\n",
       "           IMAPA  WindowAverage  \n",
       "unique_id                        \n",
       "00610101    69.0           62.0  \n",
       "00610101    69.0           62.0  \n",
       "00610101    69.0           62.0  \n",
       "00610101    69.0           62.0  \n",
       "00610101    69.0           62.0  \n",
       "...          ...            ...  \n",
       "999777       8.0           19.0  \n",
       "999777       8.0           19.0  \n",
       "999777       8.0           19.0  \n",
       "999777       8.0           19.0  \n",
       "999777       8.0           19.0  \n",
       "\n",
       "[31408 rows x 17 columns]"
      ]
     },
     "execution_count": 29,
     "metadata": {},
     "output_type": "execute_result"
    }
   ],
   "source": [
    "columns = log_forecast.drop(columns=['ds']).columns.tolist()\n",
    "f_exp_forecast = log_forecast.copy() \n",
    "\n",
    "for column in columns:\n",
    "    f_exp_forecast[column] = round(np.expm1(log_forecast[column]))\n",
    "\n",
    "f_exp_forecast"
   ]
  },
  {
   "cell_type": "code",
   "execution_count": 30,
   "metadata": {},
   "outputs": [
    {
     "data": {
      "text/plain": [
       "{'AutoARIMA': Index(['17410306', '161840', '13454010', '20416701', '9134609', '9134828',\n",
       "        '9130190', '130335', '123500F', '181223',\n",
       "        ...\n",
       "        '20020505', '20531201', '20544001NM', '134233', '130484', '20548601NM',\n",
       "        '20016203', '134629', '20016201', '00712001'],\n",
       "       dtype='object', name='unique_id', length=141),\n",
       " 'AutoETS': Index(['21510310', '21516710', '21610310', '21644710', '21512010', '913460915',\n",
       "        '13454160', '26290301', '134627', '9134673',\n",
       "        ...\n",
       "        '29989601', '130496', '20012002', '21117001BM', '20212001D', '20031201',\n",
       "        '20548702', '20018005', '09286563', '20324501'],\n",
       "       dtype='object', name='unique_id', length=193),\n",
       " 'DynamicOptimizedTheta': Index(['21517010', '21644010', '143835', '91346826', '21510310D', '21617010',\n",
       "        '21639301', '106103', '20020303', '20020305', '21120301NM', '13463460',\n",
       "        '21710401', '9134880', '13463430', '21619110', '9134881', '13452102',\n",
       "        '134835', '9533317501', '181468', '20010302', '21112001', '29961001',\n",
       "        '913483080', '161475', '21810301', '9134256', '10717002', '107395',\n",
       "        '24210301', '21110301BM', '24284001LV', '18138503', '26230701NM',\n",
       "        '01717002', '03453420OR', '03463901', '9133317', '20511201',\n",
       "        '24284001LM', '00610101NM', '21616409', '07044802', '03463701',\n",
       "        '21812001', '06220301', '21139501NM', '20560302', '21110301AC',\n",
       "        '09018602', '03411601NM', '20263901NM', '134123BM', '21110301OM',\n",
       "        '26290301AC', '1811749', '26247001', '29974905', '20020501', '134516',\n",
       "        '06917002', '21139502', '20522301NM', '06117001', '09096020',\n",
       "        '21027313', '06212001NM', '49288299', '123103', '21110302NM', '162453',\n",
       "        '03463430LV', '13462102', '21117409NM', '13452202', '21117409',\n",
       "        '172317', '26117209', '16110362', '20518001', '26290301OM',\n",
       "        '13413830NM', '24217601', '181207', '26290402NM', '106486'],\n",
       "       dtype='object', name='unique_id'),\n",
       " 'AutoTheta': Index(['21544101', '20010301', '134123', '03463706', '9134725', '17016702',\n",
       "        '21716701', '29911351', '20410301D', '913412380', '00618201', '162436',\n",
       "        '20438702', '9134592', '20518002', '21720301', '123214', '06118201',\n",
       "        '20263901', '181191', '20012001D', '00681001', '913460915NM',\n",
       "        '00611001', '03412401', '20210301NM', '1950010126', '20317001',\n",
       "        '29955304', '00612001D', '26117001NM', '26238701', '20539501',\n",
       "        '1811649', '24210601'],\n",
       "       dtype='object', name='unique_id'),\n",
       " 'ADIDA': Index(['20410301', '21110301', '9134282', '24284001AC', '134123NM', '20316701',\n",
       "        '134618', '21180301NM', '181385', '20735201', '20512001D', '20735201NM',\n",
       "        '06139301', '918108102'],\n",
       "       dtype='object', name='unique_id'),\n",
       " 'CrostonClassic': Index(['03450102', '17416706', '17444106', '20510301', '17417006', '29963901',\n",
       "        '21710301', '17412006', '20412001', '123506', '9134292', '181103',\n",
       "        '134617', '21739301', '123520F', '17044102', '123215', '161835',\n",
       "        '123315', '9134630', '17017002', '123515', '172450', '17021802',\n",
       "        '123100C', '9194283', '901102', '9134450', '21110301D', '02352001F',\n",
       "        '172420', '20512001', '13454030', '26290301NM', '9134781', '21599002',\n",
       "        '20018002', '13454190', '9134668', '00663901', '21610410', '03450101',\n",
       "        '29963106', '20510303', '9134665', '20516701', '20010301NM', '999777',\n",
       "        '20320301', '26290403', '134714', '20510305', '06944401', '21719101',\n",
       "        '9134848', '13474010', '21027399'],\n",
       "       dtype='object', name='unique_id'),\n",
       " 'IMAPA': Index([], dtype='object', name='unique_id'),\n",
       " 'WindowAverage': Index(['17010302', '00610101', '21110301NM', '123100F', '21533301', '21616710',\n",
       "        '24284001NM', '169440', '13453420', '20210301', '9134806', '17433306',\n",
       "        '20419601', '21717001', '20522301', '21712001', '134612', '39210301',\n",
       "        '03045501', '123125F', '123125C', '00612301', '29961002', '20310303',\n",
       "        '21120301', '29963920', '20010301D', '181203', '06210301', '913480810',\n",
       "        '20438708', '9134290', '20018001', '9134250', '29963111', '106180',\n",
       "        '06916702', '13454070', '130493', '20017409', '16110372', '162440',\n",
       "        '20718201', '29925064', '134757', '910616110', '09096022', '06184902',\n",
       "        '06944001', '29925016', '06117209', '123330', '20439501', '913405802',\n",
       "        '181217', '29963902', '130336', '18188005', '80500101', '20522201',\n",
       "        '29919505', '00618080', '162435', '913427220', '13413730NM', '134302',\n",
       "        '919400602', '106177', '20020306', '06217402', '06254201OM',\n",
       "        '06183901NM', '134432', '03944401', '26290403NM', '03048701',\n",
       "        '21027301'],\n",
       "       dtype='object', name='unique_id')}"
      ]
     },
     "execution_count": 30,
     "metadata": {},
     "output_type": "execute_result"
    }
   ],
   "source": [
    "best_models = select_best_models(f_global_metrics, 'wape_m')\n",
    "summary = create_descriptive_metrics_table()\n",
    "merged_bmodels_summary = summary.merge(best_models, left_index=True, right_index=True).sort_values(by='historic_mean', ascending=False)\n",
    "\n",
    "models = log_crossvalidation_df.drop(columns=['ds', 'cutoff', 'y']).columns.tolist()\n",
    "model_ids = {}\n",
    "\n",
    "for model in models:\n",
    "    ids = merged_bmodels_summary[merged_bmodels_summary['model'] == model].index\n",
    "    model_ids[model] = ids\n",
    "\n",
    "model_ids"
   ]
  },
  {
   "cell_type": "code",
   "execution_count": null,
   "metadata": {},
   "outputs": [],
   "source": [
    "log_sf.plot(weekly_selid_clean, f_exp_forecast, models=['AutoARIMA'], unique_ids=model_ids['AutoARIMA'].values, level=[90], plot_random = False)"
   ]
  },
  {
   "cell_type": "code",
   "execution_count": null,
   "metadata": {},
   "outputs": [],
   "source": [
    "log_sf.plot(weekly_selid_clean, f_exp_forecast, models=['AutoETS'], unique_ids=model_ids['AutoETS'].values, level=[90], plot_random = False)"
   ]
  },
  {
   "cell_type": "code",
   "execution_count": null,
   "metadata": {},
   "outputs": [],
   "source": [
    "log_sf.plot(weekly_selid_clean, f_exp_forecast, models=['DynamicOptimizedTheta'], unique_ids=model_ids['DynamicOptimizedTheta'].values, level=[90], plot_random = False)"
   ]
  },
  {
   "cell_type": "code",
   "execution_count": null,
   "metadata": {},
   "outputs": [],
   "source": [
    "log_sf.plot(weekly_selid_clean, f_exp_forecast, models=['AutoTheta'], unique_ids=model_ids['AutoTheta'].values, level=[90], plot_random = False)"
   ]
  },
  {
   "cell_type": "code",
   "execution_count": null,
   "metadata": {},
   "outputs": [],
   "source": [
    "log_sf.plot(weekly_selid_clean, f_exp_forecast, models=['ADIDA'], unique_ids=model_ids['ADIDA'].values, level=[90], plot_random = False)\n"
   ]
  },
  {
   "cell_type": "code",
   "execution_count": null,
   "metadata": {},
   "outputs": [],
   "source": [
    "log_sf.plot(weekly_selid_clean, f_exp_forecast, models=['CrostonClassic'], unique_ids=model_ids['CrostonClassic'].values, level=[90], plot_random = False)"
   ]
  },
  {
   "cell_type": "code",
   "execution_count": null,
   "metadata": {},
   "outputs": [],
   "source": [
    "log_sf.plot(weekly_selid_clean, f_exp_forecast, models=['WindowAverage'], unique_ids=model_ids['WindowAverage'].values, level=[90], plot_random = False)"
   ]
  },
  {
   "cell_type": "code",
   "execution_count": null,
   "metadata": {},
   "outputs": [],
   "source": [
    "log_sf.plot(weekly_selid_clean, f_exp_forecast, models=['AutoETS'], unique_ids=['9134235'], level=[90])\n",
    "log_sf.plot(weekly_selid_clean, f_exp_forecast, models=['AutoARIMA'], unique_ids=['9130190'], level=[90], plot_random = False)\n",
    "log_sf.plot(weekly_selid_clean, f_exp_forecast, models=['DynamicOptimizedTheta'], unique_ids=['29961001'], level=[90])\n",
    "log_sf.plot(weekly_selid_clean, f_exp_forecast, models=['AutoTheta'], unique_ids=['20010301'], level=[90], plot_random = False)\n",
    "log_sf.plot(weekly_selid_clean, f_exp_forecast, models=['WindowAverage'], unique_ids=['29925064'], level=[90])\n",
    "log_sf.plot(weekly_selid_clean, f_exp_forecast, models=['ADIDA'], unique_ids=['20735201NM'], level=[90])\n",
    "log_sf.plot(weekly_selid_clean, f_exp_forecast, models=['CrostonClassic'], unique_ids=['134617'], level=[90])"
   ]
  },
  {
   "cell_type": "markdown",
   "metadata": {},
   "source": [
    "### One Time Series Example"
   ]
  },
  {
   "cell_type": "code",
   "execution_count": 32,
   "metadata": {},
   "outputs": [
    {
     "data": {
      "application/vnd.plotly.v1+json": {
       "config": {
        "plotlyServerURL": "https://plot.ly"
       },
       "data": [
        {
         "legendgroup": "y",
         "line": {
          "color": "#1f77b4",
          "width": 1
         },
         "mode": "lines",
         "name": "y",
         "showlegend": true,
         "type": "scatter",
         "x": [
          "2019-01-07T00:00:00",
          "2019-01-14T00:00:00",
          "2019-01-21T00:00:00",
          "2019-01-28T00:00:00",
          "2019-02-04T00:00:00",
          "2019-02-11T00:00:00",
          "2019-02-18T00:00:00",
          "2019-02-25T00:00:00",
          "2019-03-04T00:00:00",
          "2019-03-11T00:00:00",
          "2019-03-18T00:00:00",
          "2019-03-25T00:00:00",
          "2019-04-01T00:00:00",
          "2019-04-08T00:00:00",
          "2019-04-15T00:00:00",
          "2019-04-22T00:00:00",
          "2019-04-29T00:00:00",
          "2019-05-06T00:00:00",
          "2019-05-13T00:00:00",
          "2019-05-20T00:00:00",
          "2019-05-27T00:00:00",
          "2019-06-03T00:00:00",
          "2019-06-10T00:00:00",
          "2019-06-17T00:00:00",
          "2019-06-24T00:00:00",
          "2019-07-01T00:00:00",
          "2019-07-08T00:00:00",
          "2019-07-15T00:00:00",
          "2019-07-22T00:00:00",
          "2019-07-29T00:00:00",
          "2019-08-05T00:00:00",
          "2019-08-12T00:00:00",
          "2019-08-19T00:00:00",
          "2019-08-26T00:00:00",
          "2019-09-02T00:00:00",
          "2019-09-09T00:00:00",
          "2019-09-16T00:00:00",
          "2019-09-23T00:00:00",
          "2019-09-30T00:00:00",
          "2019-10-07T00:00:00",
          "2019-10-14T00:00:00",
          "2019-10-21T00:00:00",
          "2019-10-28T00:00:00",
          "2019-11-04T00:00:00",
          "2019-11-11T00:00:00",
          "2019-11-18T00:00:00",
          "2019-11-25T00:00:00",
          "2019-12-02T00:00:00",
          "2019-12-09T00:00:00",
          "2019-12-16T00:00:00",
          "2019-12-23T00:00:00",
          "2019-12-30T00:00:00",
          "2020-01-06T00:00:00",
          "2020-01-13T00:00:00",
          "2020-01-20T00:00:00",
          "2020-01-27T00:00:00",
          "2020-02-03T00:00:00",
          "2020-02-10T00:00:00",
          "2020-02-17T00:00:00",
          "2020-02-24T00:00:00",
          "2020-03-02T00:00:00",
          "2020-03-09T00:00:00",
          "2020-03-16T00:00:00",
          "2020-03-23T00:00:00",
          "2020-03-30T00:00:00",
          "2020-04-06T00:00:00",
          "2020-04-13T00:00:00",
          "2020-04-20T00:00:00",
          "2020-04-27T00:00:00",
          "2020-05-04T00:00:00",
          "2020-05-11T00:00:00",
          "2020-05-18T00:00:00",
          "2020-05-25T00:00:00",
          "2020-06-01T00:00:00",
          "2020-06-08T00:00:00",
          "2020-06-15T00:00:00",
          "2020-06-22T00:00:00",
          "2020-06-29T00:00:00",
          "2020-07-06T00:00:00",
          "2020-07-13T00:00:00",
          "2020-07-20T00:00:00",
          "2020-07-27T00:00:00",
          "2020-08-03T00:00:00",
          "2020-08-10T00:00:00",
          "2020-08-17T00:00:00",
          "2020-08-24T00:00:00",
          "2020-08-31T00:00:00",
          "2020-09-07T00:00:00",
          "2020-09-14T00:00:00",
          "2020-09-21T00:00:00",
          "2020-09-28T00:00:00",
          "2020-10-05T00:00:00",
          "2020-10-12T00:00:00",
          "2020-10-19T00:00:00",
          "2020-10-26T00:00:00",
          "2020-11-02T00:00:00",
          "2020-11-09T00:00:00",
          "2020-11-16T00:00:00",
          "2020-11-23T00:00:00",
          "2020-11-30T00:00:00",
          "2020-12-07T00:00:00",
          "2020-12-14T00:00:00",
          "2020-12-21T00:00:00",
          "2020-12-28T00:00:00",
          "2021-01-04T00:00:00",
          "2021-01-11T00:00:00",
          "2021-01-18T00:00:00",
          "2021-01-25T00:00:00",
          "2021-02-01T00:00:00",
          "2021-02-08T00:00:00",
          "2021-02-15T00:00:00",
          "2021-02-22T00:00:00",
          "2021-03-01T00:00:00",
          "2021-03-08T00:00:00",
          "2021-03-15T00:00:00",
          "2021-03-22T00:00:00",
          "2021-03-29T00:00:00",
          "2021-04-05T00:00:00",
          "2021-04-12T00:00:00",
          "2021-04-19T00:00:00",
          "2021-04-26T00:00:00",
          "2021-05-03T00:00:00",
          "2021-05-10T00:00:00",
          "2021-05-17T00:00:00",
          "2021-05-24T00:00:00",
          "2021-05-31T00:00:00",
          "2021-06-07T00:00:00",
          "2021-06-14T00:00:00",
          "2021-06-21T00:00:00",
          "2021-06-28T00:00:00",
          "2021-07-05T00:00:00",
          "2021-07-12T00:00:00",
          "2021-07-19T00:00:00",
          "2021-07-26T00:00:00",
          "2021-08-02T00:00:00",
          "2021-08-09T00:00:00",
          "2021-08-16T00:00:00",
          "2021-08-23T00:00:00",
          "2021-08-30T00:00:00",
          "2021-09-06T00:00:00",
          "2021-09-13T00:00:00",
          "2021-09-20T00:00:00",
          "2021-09-27T00:00:00",
          "2021-10-04T00:00:00",
          "2021-10-11T00:00:00",
          "2021-10-18T00:00:00",
          "2021-10-25T00:00:00",
          "2021-11-01T00:00:00",
          "2021-11-08T00:00:00",
          "2021-11-15T00:00:00",
          "2021-11-22T00:00:00",
          "2021-11-29T00:00:00",
          "2021-12-06T00:00:00",
          "2021-12-13T00:00:00",
          "2021-12-20T00:00:00",
          "2021-12-27T00:00:00",
          "2022-01-03T00:00:00",
          "2022-01-10T00:00:00",
          "2022-01-17T00:00:00",
          "2022-01-24T00:00:00",
          "2022-01-31T00:00:00",
          "2022-02-07T00:00:00",
          "2022-02-14T00:00:00",
          "2022-02-21T00:00:00",
          "2022-02-28T00:00:00",
          "2022-03-07T00:00:00",
          "2022-03-14T00:00:00",
          "2022-03-21T00:00:00",
          "2022-03-28T00:00:00",
          "2022-04-04T00:00:00",
          "2022-04-11T00:00:00",
          "2022-04-18T00:00:00",
          "2022-04-25T00:00:00",
          "2022-05-02T00:00:00",
          "2022-05-09T00:00:00",
          "2022-05-16T00:00:00",
          "2022-05-23T00:00:00",
          "2022-05-30T00:00:00",
          "2022-06-06T00:00:00",
          "2022-06-13T00:00:00",
          "2022-06-20T00:00:00",
          "2022-06-27T00:00:00",
          "2022-07-04T00:00:00",
          "2022-07-11T00:00:00",
          "2022-07-18T00:00:00",
          "2022-07-25T00:00:00",
          "2022-08-01T00:00:00",
          "2022-08-08T00:00:00",
          "2022-08-15T00:00:00",
          "2022-08-22T00:00:00",
          "2022-08-29T00:00:00",
          "2022-09-05T00:00:00",
          "2022-09-12T00:00:00",
          "2022-09-19T00:00:00",
          "2022-09-26T00:00:00",
          "2022-10-03T00:00:00",
          "2022-10-10T00:00:00",
          "2022-10-17T00:00:00",
          "2022-10-24T00:00:00",
          "2022-10-31T00:00:00",
          "2022-11-07T00:00:00",
          "2022-11-14T00:00:00",
          "2022-11-21T00:00:00",
          "2022-11-28T00:00:00",
          "2022-12-05T00:00:00",
          "2022-12-12T00:00:00",
          "2022-12-19T00:00:00",
          "2022-12-26T00:00:00"
         ],
         "xaxis": "x",
         "y": [
          4.219507705176107,
          4.5217885770490405,
          4.442651256490317,
          3.8066624897703196,
          3.6375861597263857,
          4.1588830833596715,
          4.30406509320417,
          3.9318256327243257,
          3.58351893845611,
          3.9512437185814275,
          4.31748811353631,
          3.7612001156935624,
          4.2626798770413155,
          4.127134385045092,
          3.871201010907891,
          3.1354942159291497,
          3.828641396489095,
          4.174387269895637,
          4.07753744390572,
          4.127134385045092,
          3.871201010907891,
          4.127134385045092,
          4.30406509320417,
          4.2626798770413155,
          4.23410650459726,
          4.07753744390572,
          4.04305126783455,
          4.189654742026425,
          3.6375861597263857,
          4.0943445622221,
          4.31748811353631,
          2.6390573296152584,
          3.295836866004329,
          3.8501476017100584,
          4.30406509320417,
          3.8066624897703196,
          4.07753744390572,
          3.8066624897703196,
          3.4011973816621555,
          3.713572066704308,
          4.174387269895637,
          4.3694478524670215,
          3.871201010907891,
          4.653960350157523,
          3.7612001156935624,
          3.367295829986474,
          3.7376696182833684,
          4.174387269895637,
          4.31748811353631,
          3.4965075614664802,
          3.044522437723423,
          3.295836866004329,
          3.912023005428146,
          4.110873864173311,
          4.174387269895637,
          3.2188758248682006,
          4.290459441148391,
          4.219507705176107,
          4.189654742026425,
          4.23410650459726,
          4.02535169073515,
          3.912023005428146,
          2.995732273553991,
          3.2188758248682006,
          2.5649493574615367,
          0,
          2.6390573296152584,
          3.295836866004329,
          2.3978952727983707,
          3.4965075614664802,
          4.007333185232471,
          4.04305126783455,
          3.6635616461296463,
          4.189654742026425,
          4.290459441148391,
          3.713572066704308,
          4.343805421853684,
          4.584967478670572,
          4.30406509320417,
          3.9512437185814275,
          4.23410650459726,
          4.343805421853684,
          3.912023005428146,
          3.8066624897703196,
          3.6375861597263857,
          3.1780538303479458,
          3.9318256327243257,
          3.8066624897703196,
          4.532599493153256,
          4.30406509320417,
          4.174387269895637,
          4.23410650459726,
          3.9318256327243257,
          4.382026634673881,
          3.367295829986474,
          4.672828834461906,
          4.007333185232471,
          4.290459441148391,
          3.8066624897703196,
          4.442651256490317,
          4.3694478524670215,
          4.343805421853684,
          3.58351893845611,
          2.5649493574615367,
          4.0943445622221,
          3.9318256327243257,
          3.6375861597263857,
          3.912023005428146,
          4.31748811353631,
          4.127134385045092,
          4.248495242049359,
          4.290459441148391,
          3.871201010907891,
          3.7612001156935624,
          4.1588830833596715,
          3.8066624897703196,
          4.04305126783455,
          3.6635616461296463,
          4.189654742026425,
          4.04305126783455,
          4.757891273005756,
          3.713572066704308,
          3.912023005428146,
          4.406719247264253,
          4.07753744390572,
          3.2188758248682006,
          4.110873864173311,
          4.290459441148391,
          3.912023005428146,
          3.828641396489095,
          3.7612001156935624,
          4.1588830833596715,
          3.828641396489095,
          3.6375861597263857,
          3.367295829986474,
          3.58351893845611,
          3.4011973816621555,
          3.2188758248682006,
          3.828641396489095,
          4.382026634673881,
          4.174387269895637,
          4.2626798770413155,
          3.4965075614664802,
          4.174387269895637,
          3.332204510175204,
          4.290459441148391,
          3.828641396489095,
          4.127134385045092,
          4.127134385045092,
          3.713572066704308,
          3.9512437185814275,
          4.248495242049359,
          3.4011973816621555,
          4.02535169073515,
          4.110873864173311,
          3.1780538303479458,
          3.367295829986474,
          4.04305126783455,
          4.04305126783455,
          4.219507705176107,
          3.4965075614664802,
          4.0943445622221,
          3.828641396489095,
          4.343805421853684,
          3.58351893845611,
          3.4011973816621555,
          3.8066624897703196,
          3.6109179126442243,
          3.2188758248682006,
          3.970291913552122,
          3.2188758248682006,
          3.713572066704308,
          3.912023005428146,
          3.6375861597263857,
          4.127134385045092,
          3.970291913552122,
          3.4965075614664802,
          3.713572066704308,
          3.6635616461296463,
          4.02535169073515,
          3.7376696182833684,
          4.04305126783455,
          3.6635616461296463,
          3.713572066704308,
          4.1588830833596715,
          3.4965075614664802,
          3.6635616461296463,
          3.9318256327243257,
          3.295836866004329,
          3.332204510175204,
          4.007333185232471,
          3.367295829986474,
          3.9512437185814275,
          3.332204510175204,
          3.5263605246161616,
          4.007333185232471,
          3.5263605246161616,
          3.828641396489095,
          3.912023005428146,
          3.5263605246161616,
          3.4657359027997265,
          3.828641396489095,
          3.5263605246161616,
          3.8066624897703196,
          3.5263605246161616,
          4.3694478524670215,
          3.367295829986474,
          2.772588722239781
         ],
         "yaxis": "y"
        }
       ],
       "layout": {
        "annotations": [
         {
          "font": {
           "size": 10
          },
          "showarrow": false,
          "text": "130335",
          "x": 0.5,
          "xanchor": "center",
          "xref": "paper",
          "y": 1,
          "yanchor": "bottom",
          "yref": "paper"
         },
         {
          "font": {
           "size": 10
          },
          "showarrow": false,
          "text": "Datestamp [ds]",
          "x": 0.5,
          "xanchor": "center",
          "xref": "paper",
          "y": 0,
          "yanchor": "top",
          "yref": "paper",
          "yshift": -30
         },
         {
          "font": {
           "size": 10
          },
          "showarrow": false,
          "text": "Target [y]",
          "textangle": -90,
          "x": 0,
          "xanchor": "right",
          "xref": "paper",
          "xshift": -40,
          "y": 0.5,
          "yanchor": "middle",
          "yref": "paper"
         }
        ],
        "autosize": true,
        "font": {
         "size": 10
        },
        "height": 150,
        "margin": {
         "b": 50,
         "l": 60,
         "r": 10,
         "t": 20
        },
        "template": {
         "data": {
          "bar": [
           {
            "error_x": {
             "color": "#2a3f5f"
            },
            "error_y": {
             "color": "#2a3f5f"
            },
            "marker": {
             "line": {
              "color": "white",
              "width": 0.5
             },
             "pattern": {
              "fillmode": "overlay",
              "size": 10,
              "solidity": 0.2
             }
            },
            "type": "bar"
           }
          ],
          "barpolar": [
           {
            "marker": {
             "line": {
              "color": "white",
              "width": 0.5
             },
             "pattern": {
              "fillmode": "overlay",
              "size": 10,
              "solidity": 0.2
             }
            },
            "type": "barpolar"
           }
          ],
          "carpet": [
           {
            "aaxis": {
             "endlinecolor": "#2a3f5f",
             "gridcolor": "#C8D4E3",
             "linecolor": "#C8D4E3",
             "minorgridcolor": "#C8D4E3",
             "startlinecolor": "#2a3f5f"
            },
            "baxis": {
             "endlinecolor": "#2a3f5f",
             "gridcolor": "#C8D4E3",
             "linecolor": "#C8D4E3",
             "minorgridcolor": "#C8D4E3",
             "startlinecolor": "#2a3f5f"
            },
            "type": "carpet"
           }
          ],
          "choropleth": [
           {
            "colorbar": {
             "outlinewidth": 0,
             "ticks": ""
            },
            "type": "choropleth"
           }
          ],
          "contour": [
           {
            "colorbar": {
             "outlinewidth": 0,
             "ticks": ""
            },
            "colorscale": [
             [
              0,
              "#0d0887"
             ],
             [
              0.1111111111111111,
              "#46039f"
             ],
             [
              0.2222222222222222,
              "#7201a8"
             ],
             [
              0.3333333333333333,
              "#9c179e"
             ],
             [
              0.4444444444444444,
              "#bd3786"
             ],
             [
              0.5555555555555556,
              "#d8576b"
             ],
             [
              0.6666666666666666,
              "#ed7953"
             ],
             [
              0.7777777777777778,
              "#fb9f3a"
             ],
             [
              0.8888888888888888,
              "#fdca26"
             ],
             [
              1,
              "#f0f921"
             ]
            ],
            "type": "contour"
           }
          ],
          "contourcarpet": [
           {
            "colorbar": {
             "outlinewidth": 0,
             "ticks": ""
            },
            "type": "contourcarpet"
           }
          ],
          "heatmap": [
           {
            "colorbar": {
             "outlinewidth": 0,
             "ticks": ""
            },
            "colorscale": [
             [
              0,
              "#0d0887"
             ],
             [
              0.1111111111111111,
              "#46039f"
             ],
             [
              0.2222222222222222,
              "#7201a8"
             ],
             [
              0.3333333333333333,
              "#9c179e"
             ],
             [
              0.4444444444444444,
              "#bd3786"
             ],
             [
              0.5555555555555556,
              "#d8576b"
             ],
             [
              0.6666666666666666,
              "#ed7953"
             ],
             [
              0.7777777777777778,
              "#fb9f3a"
             ],
             [
              0.8888888888888888,
              "#fdca26"
             ],
             [
              1,
              "#f0f921"
             ]
            ],
            "type": "heatmap"
           }
          ],
          "heatmapgl": [
           {
            "colorbar": {
             "outlinewidth": 0,
             "ticks": ""
            },
            "colorscale": [
             [
              0,
              "#0d0887"
             ],
             [
              0.1111111111111111,
              "#46039f"
             ],
             [
              0.2222222222222222,
              "#7201a8"
             ],
             [
              0.3333333333333333,
              "#9c179e"
             ],
             [
              0.4444444444444444,
              "#bd3786"
             ],
             [
              0.5555555555555556,
              "#d8576b"
             ],
             [
              0.6666666666666666,
              "#ed7953"
             ],
             [
              0.7777777777777778,
              "#fb9f3a"
             ],
             [
              0.8888888888888888,
              "#fdca26"
             ],
             [
              1,
              "#f0f921"
             ]
            ],
            "type": "heatmapgl"
           }
          ],
          "histogram": [
           {
            "marker": {
             "pattern": {
              "fillmode": "overlay",
              "size": 10,
              "solidity": 0.2
             }
            },
            "type": "histogram"
           }
          ],
          "histogram2d": [
           {
            "colorbar": {
             "outlinewidth": 0,
             "ticks": ""
            },
            "colorscale": [
             [
              0,
              "#0d0887"
             ],
             [
              0.1111111111111111,
              "#46039f"
             ],
             [
              0.2222222222222222,
              "#7201a8"
             ],
             [
              0.3333333333333333,
              "#9c179e"
             ],
             [
              0.4444444444444444,
              "#bd3786"
             ],
             [
              0.5555555555555556,
              "#d8576b"
             ],
             [
              0.6666666666666666,
              "#ed7953"
             ],
             [
              0.7777777777777778,
              "#fb9f3a"
             ],
             [
              0.8888888888888888,
              "#fdca26"
             ],
             [
              1,
              "#f0f921"
             ]
            ],
            "type": "histogram2d"
           }
          ],
          "histogram2dcontour": [
           {
            "colorbar": {
             "outlinewidth": 0,
             "ticks": ""
            },
            "colorscale": [
             [
              0,
              "#0d0887"
             ],
             [
              0.1111111111111111,
              "#46039f"
             ],
             [
              0.2222222222222222,
              "#7201a8"
             ],
             [
              0.3333333333333333,
              "#9c179e"
             ],
             [
              0.4444444444444444,
              "#bd3786"
             ],
             [
              0.5555555555555556,
              "#d8576b"
             ],
             [
              0.6666666666666666,
              "#ed7953"
             ],
             [
              0.7777777777777778,
              "#fb9f3a"
             ],
             [
              0.8888888888888888,
              "#fdca26"
             ],
             [
              1,
              "#f0f921"
             ]
            ],
            "type": "histogram2dcontour"
           }
          ],
          "mesh3d": [
           {
            "colorbar": {
             "outlinewidth": 0,
             "ticks": ""
            },
            "type": "mesh3d"
           }
          ],
          "parcoords": [
           {
            "line": {
             "colorbar": {
              "outlinewidth": 0,
              "ticks": ""
             }
            },
            "type": "parcoords"
           }
          ],
          "pie": [
           {
            "automargin": true,
            "type": "pie"
           }
          ],
          "scatter": [
           {
            "fillpattern": {
             "fillmode": "overlay",
             "size": 10,
             "solidity": 0.2
            },
            "type": "scatter"
           }
          ],
          "scatter3d": [
           {
            "line": {
             "colorbar": {
              "outlinewidth": 0,
              "ticks": ""
             }
            },
            "marker": {
             "colorbar": {
              "outlinewidth": 0,
              "ticks": ""
             }
            },
            "type": "scatter3d"
           }
          ],
          "scattercarpet": [
           {
            "marker": {
             "colorbar": {
              "outlinewidth": 0,
              "ticks": ""
             }
            },
            "type": "scattercarpet"
           }
          ],
          "scattergeo": [
           {
            "marker": {
             "colorbar": {
              "outlinewidth": 0,
              "ticks": ""
             }
            },
            "type": "scattergeo"
           }
          ],
          "scattergl": [
           {
            "marker": {
             "colorbar": {
              "outlinewidth": 0,
              "ticks": ""
             }
            },
            "type": "scattergl"
           }
          ],
          "scattermapbox": [
           {
            "marker": {
             "colorbar": {
              "outlinewidth": 0,
              "ticks": ""
             }
            },
            "type": "scattermapbox"
           }
          ],
          "scatterpolar": [
           {
            "marker": {
             "colorbar": {
              "outlinewidth": 0,
              "ticks": ""
             }
            },
            "type": "scatterpolar"
           }
          ],
          "scatterpolargl": [
           {
            "marker": {
             "colorbar": {
              "outlinewidth": 0,
              "ticks": ""
             }
            },
            "type": "scatterpolargl"
           }
          ],
          "scatterternary": [
           {
            "marker": {
             "colorbar": {
              "outlinewidth": 0,
              "ticks": ""
             }
            },
            "type": "scatterternary"
           }
          ],
          "surface": [
           {
            "colorbar": {
             "outlinewidth": 0,
             "ticks": ""
            },
            "colorscale": [
             [
              0,
              "#0d0887"
             ],
             [
              0.1111111111111111,
              "#46039f"
             ],
             [
              0.2222222222222222,
              "#7201a8"
             ],
             [
              0.3333333333333333,
              "#9c179e"
             ],
             [
              0.4444444444444444,
              "#bd3786"
             ],
             [
              0.5555555555555556,
              "#d8576b"
             ],
             [
              0.6666666666666666,
              "#ed7953"
             ],
             [
              0.7777777777777778,
              "#fb9f3a"
             ],
             [
              0.8888888888888888,
              "#fdca26"
             ],
             [
              1,
              "#f0f921"
             ]
            ],
            "type": "surface"
           }
          ],
          "table": [
           {
            "cells": {
             "fill": {
              "color": "#EBF0F8"
             },
             "line": {
              "color": "white"
             }
            },
            "header": {
             "fill": {
              "color": "#C8D4E3"
             },
             "line": {
              "color": "white"
             }
            },
            "type": "table"
           }
          ]
         },
         "layout": {
          "annotationdefaults": {
           "arrowcolor": "#2a3f5f",
           "arrowhead": 0,
           "arrowwidth": 1
          },
          "autotypenumbers": "strict",
          "coloraxis": {
           "colorbar": {
            "outlinewidth": 0,
            "ticks": ""
           }
          },
          "colorscale": {
           "diverging": [
            [
             0,
             "#8e0152"
            ],
            [
             0.1,
             "#c51b7d"
            ],
            [
             0.2,
             "#de77ae"
            ],
            [
             0.3,
             "#f1b6da"
            ],
            [
             0.4,
             "#fde0ef"
            ],
            [
             0.5,
             "#f7f7f7"
            ],
            [
             0.6,
             "#e6f5d0"
            ],
            [
             0.7,
             "#b8e186"
            ],
            [
             0.8,
             "#7fbc41"
            ],
            [
             0.9,
             "#4d9221"
            ],
            [
             1,
             "#276419"
            ]
           ],
           "sequential": [
            [
             0,
             "#0d0887"
            ],
            [
             0.1111111111111111,
             "#46039f"
            ],
            [
             0.2222222222222222,
             "#7201a8"
            ],
            [
             0.3333333333333333,
             "#9c179e"
            ],
            [
             0.4444444444444444,
             "#bd3786"
            ],
            [
             0.5555555555555556,
             "#d8576b"
            ],
            [
             0.6666666666666666,
             "#ed7953"
            ],
            [
             0.7777777777777778,
             "#fb9f3a"
            ],
            [
             0.8888888888888888,
             "#fdca26"
            ],
            [
             1,
             "#f0f921"
            ]
           ],
           "sequentialminus": [
            [
             0,
             "#0d0887"
            ],
            [
             0.1111111111111111,
             "#46039f"
            ],
            [
             0.2222222222222222,
             "#7201a8"
            ],
            [
             0.3333333333333333,
             "#9c179e"
            ],
            [
             0.4444444444444444,
             "#bd3786"
            ],
            [
             0.5555555555555556,
             "#d8576b"
            ],
            [
             0.6666666666666666,
             "#ed7953"
            ],
            [
             0.7777777777777778,
             "#fb9f3a"
            ],
            [
             0.8888888888888888,
             "#fdca26"
            ],
            [
             1,
             "#f0f921"
            ]
           ]
          },
          "colorway": [
           "#636efa",
           "#EF553B",
           "#00cc96",
           "#ab63fa",
           "#FFA15A",
           "#19d3f3",
           "#FF6692",
           "#B6E880",
           "#FF97FF",
           "#FECB52"
          ],
          "font": {
           "color": "#2a3f5f"
          },
          "geo": {
           "bgcolor": "white",
           "lakecolor": "white",
           "landcolor": "white",
           "showlakes": true,
           "showland": true,
           "subunitcolor": "#C8D4E3"
          },
          "hoverlabel": {
           "align": "left"
          },
          "hovermode": "closest",
          "mapbox": {
           "style": "light"
          },
          "paper_bgcolor": "white",
          "plot_bgcolor": "white",
          "polar": {
           "angularaxis": {
            "gridcolor": "#EBF0F8",
            "linecolor": "#EBF0F8",
            "ticks": ""
           },
           "bgcolor": "white",
           "radialaxis": {
            "gridcolor": "#EBF0F8",
            "linecolor": "#EBF0F8",
            "ticks": ""
           }
          },
          "scene": {
           "xaxis": {
            "backgroundcolor": "white",
            "gridcolor": "#DFE8F3",
            "gridwidth": 2,
            "linecolor": "#EBF0F8",
            "showbackground": true,
            "ticks": "",
            "zerolinecolor": "#EBF0F8"
           },
           "yaxis": {
            "backgroundcolor": "white",
            "gridcolor": "#DFE8F3",
            "gridwidth": 2,
            "linecolor": "#EBF0F8",
            "showbackground": true,
            "ticks": "",
            "zerolinecolor": "#EBF0F8"
           },
           "zaxis": {
            "backgroundcolor": "white",
            "gridcolor": "#DFE8F3",
            "gridwidth": 2,
            "linecolor": "#EBF0F8",
            "showbackground": true,
            "ticks": "",
            "zerolinecolor": "#EBF0F8"
           }
          },
          "shapedefaults": {
           "line": {
            "color": "#2a3f5f"
           }
          },
          "ternary": {
           "aaxis": {
            "gridcolor": "#DFE8F3",
            "linecolor": "#A2B1C6",
            "ticks": ""
           },
           "baxis": {
            "gridcolor": "#DFE8F3",
            "linecolor": "#A2B1C6",
            "ticks": ""
           },
           "bgcolor": "white",
           "caxis": {
            "gridcolor": "#DFE8F3",
            "linecolor": "#A2B1C6",
            "ticks": ""
           }
          },
          "title": {
           "x": 0.05
          },
          "xaxis": {
           "automargin": true,
           "gridcolor": "#EBF0F8",
           "linecolor": "#EBF0F8",
           "ticks": "",
           "title": {
            "standoff": 15
           },
           "zerolinecolor": "#EBF0F8",
           "zerolinewidth": 2
          },
          "yaxis": {
           "automargin": true,
           "gridcolor": "#EBF0F8",
           "linecolor": "#EBF0F8",
           "ticks": "",
           "title": {
            "standoff": 15
           },
           "zerolinecolor": "#EBF0F8",
           "zerolinewidth": 2
          }
         }
        },
        "xaxis": {
         "anchor": "y",
         "domain": [
          0,
          1
         ],
         "showticklabels": true,
         "visible": true
        },
        "yaxis": {
         "anchor": "x",
         "domain": [
          0,
          1
         ]
        }
       }
      }
     },
     "metadata": {},
     "output_type": "display_data"
    }
   ],
   "source": [
    "example_id = '130335'\n",
    "example_id_best_model = 'AutoARIMA'\n",
    "df_example_id = weekly_selid_clean.loc[example_id]\n",
    "log_example_id = log_weekly_selid.loc[example_id]\n",
    "StatsForecast.plot(log_example_id)"
   ]
  },
  {
   "cell_type": "markdown",
   "metadata": {},
   "source": [
    "### 1st Group of Models"
   ]
  },
  {
   "cell_type": "code",
   "execution_count": null,
   "metadata": {},
   "outputs": [],
   "source": [
    "ex_df = m1_initial_transformations(log_example_id)\n",
    "ex_crossvalidation = m1_models(ex_df)\n",
    "days = (ex_crossvalidation.index.min() - log_example_id['ds'].min()).days - 30\n",
    "ex_best_params = m1_tuning_hyperparameters_prophet(log_example_id, days)\n",
    "ex_crossvalidation, prophet_model = m1_apply_prophet(log_example_id, ex_best_params, days, ex_crossvalidation)\n"
   ]
  },
  {
   "cell_type": "code",
   "execution_count": null,
   "metadata": {},
   "outputs": [],
   "source": [
    "ex_future = prophet_model.make_future_dataframe(periods=52, freq='w')\n",
    "ex_forecast = prophet_model.predict(ex_future)\n",
    "prophet_model.plot(ex_forecast)\n"
   ]
  },
  {
   "cell_type": "code",
   "execution_count": null,
   "metadata": {},
   "outputs": [],
   "source": [
    "prophet_model.plot_components(ex_forecast)"
   ]
  },
  {
   "cell_type": "markdown",
   "metadata": {},
   "source": [
    "### 2nd Group of Models\n"
   ]
  },
  {
   "cell_type": "code",
   "execution_count": null,
   "metadata": {},
   "outputs": [],
   "source": [
    "one_sf = StatsForecast(\n",
    "    models = [AutoARIMA(season_length = 52), AutoETS(season_length=52), DOT(season_length = 52), AutoTheta(season_length = 52), ADIDA(), Croston(), IMAPA(), WindowAverage(window_size=4)],\n",
    "    freq = 'W',\n",
    "    n_jobs = cpu_count()-1,\n",
    "    fallback_model= WindowAverage(window_size=4)\n",
    ")\n",
    "\n",
    "one_sf.fit(log_example_id)\n",
    "\n",
    "one_log_cv_df = one_sf.cross_validation(\n",
    "    df = log_example_id,\n",
    "    h = 8, \n",
    "    step_size=8, \n",
    "    n_windows=4 \n",
    ")\n",
    "\n",
    "one_log_forecast = one_sf.forecast(h=52, level=[90])"
   ]
  },
  {
   "cell_type": "code",
   "execution_count": null,
   "metadata": {},
   "outputs": [],
   "source": [
    "one_sf.plot(log_example_id, one_log_forecast)"
   ]
  },
  {
   "cell_type": "code",
   "execution_count": null,
   "metadata": {},
   "outputs": [],
   "source": [
    "cutoff = one_log_cv_df['cutoff'].unique()\n",
    "\n",
    "for k in range(len(cutoff)): \n",
    "    cv = one_log_cv_df[one_log_cv_df['cutoff'] == cutoff[k]]\n",
    "    StatsForecast.plot(log_example_id, cv.loc[:, cv.columns != 'cutoff'], models=[example_id_best_model])"
   ]
  },
  {
   "cell_type": "code",
   "execution_count": null,
   "metadata": {},
   "outputs": [],
   "source": [
    "one_serie_metrics = evaluate(one_log_cv_df)\n",
    "one_serie_metrics"
   ]
  }
 ],
 "metadata": {
  "kernelspec": {
   "display_name": "Python 3",
   "language": "python",
   "name": "python3"
  },
  "language_info": {
   "codemirror_mode": {
    "name": "ipython",
    "version": 3
   },
   "file_extension": ".py",
   "mimetype": "text/x-python",
   "name": "python",
   "nbconvert_exporter": "python",
   "pygments_lexer": "ipython3",
   "version": "3.10.7"
  },
  "orig_nbformat": 4
 },
 "nbformat": 4,
 "nbformat_minor": 2
}
